{
 "cells": [
  {
   "cell_type": "code",
   "execution_count": 182,
   "metadata": {},
   "outputs": [],
   "source": [
    "import google.generativeai as genai\n",
    "from dotenv import load_dotenv\n",
    "import os"
   ]
  },
  {
   "cell_type": "code",
   "execution_count": 183,
   "metadata": {},
   "outputs": [
    {
     "data": {
      "text/plain": [
       "True"
      ]
     },
     "execution_count": 183,
     "metadata": {},
     "output_type": "execute_result"
    }
   ],
   "source": [
    "load_dotenv()"
   ]
  },
  {
   "cell_type": "code",
   "execution_count": 184,
   "metadata": {},
   "outputs": [],
   "source": [
    "gemini_api_key = os.getenv(\"GEMINI_API_KEY\")\n",
    "if not gemini_api_key:\n",
    "    raise ValueError(\"La clave GEMINI_API_KEY no está configurada en el archivo .env\")\n",
    "\n",
    "\n",
    "genai.configure(api_key=gemini_api_key)"
   ]
  },
  {
   "cell_type": "code",
   "execution_count": 185,
   "metadata": {},
   "outputs": [],
   "source": [
    "try:\n",
    "    model = genai.GenerativeModel(\"gemini-1.5-flash\")\n",
    "except Exception as e:\n",
    "    raise ValueError(f\"Error al cargar el modelo Gemini: {str(e)}\")"
   ]
  },
  {
   "cell_type": "code",
   "execution_count": 186,
   "metadata": {},
   "outputs": [],
   "source": [
    "def generar_respuesta(prompt):\n",
    "    try:\n",
    "        # Genera la respuesta usando el modelo cargado\n",
    "        response = model.generate_content(prompt)\n",
    "        return response.text\n",
    "    except Exception as e:\n",
    "        return f\"Error al generar respuesta: {str(e)}\""
   ]
  },
  {
   "cell_type": "markdown",
   "metadata": {},
   "source": [
    "# USUARIO"
   ]
  },
  {
   "cell_type": "code",
   "execution_count": 187,
   "metadata": {},
   "outputs": [],
   "source": [
    "# USUARIO\n",
    "\n",
    "pronombre = \"elle\"\n",
    "codigo_postal = \"San Sebastian de los Reyes\"\n",
    "nacionalidad = \"española\"\n",
    "edad = 20\n",
    "genero = \"no binarie\"\n",
    "orientacion = \"pansexual\""
   ]
  },
  {
   "cell_type": "code",
   "execution_count": 188,
   "metadata": {},
   "outputs": [],
   "source": [
    "decision_path = \"\"\"\n",
    "2. Usuario solicitó información sobre \"Pruebas de VIH.\"\n",
    "3. Usuario eligió saber sobre \"Centros de realizacion cercanos.\"\n",
    "\"\"\""
   ]
  },
  {
   "cell_type": "code",
   "execution_count": 189,
   "metadata": {},
   "outputs": [
    {
     "name": "stdout",
     "output_type": "stream",
     "text": [
      "\n",
      "Soy una persona usuaria que busca información sobre VIH, \n",
      "me identifico con el pronombre elle, \n",
      "mi código postal es San Sebastian de los Reyes, \n",
      "mi nacionalidad es española, \n",
      "tengo 20 años, \n",
      "me identifico con el género no binarie, \n",
      "y mi orientación sexual es pansexual. \n",
      "Estas son mis opciones \n",
      "2. Usuario solicitó información sobre \"Pruebas de VIH.\"\n",
      "3. Usuario eligió saber sobre \"Centros de realizacion cercanos.\"\n",
      " y necesito que me ayudes. \n",
      "Quiero que actúes como un asistente experto en VIH. \n",
      "El usuario, con las características anteriores, ha interactuado contigo, \n",
      "y necesito que le des unas respuestas y atención personalizada en relación \n",
      "a sus características personales, siempre informándole en un tono profesional, \n",
      "amigable y calmado para que el usuario no entre en estado de alarma. \n",
      "Siempre sé amable, comprensivo y compasivo. \n",
      "Informa al usuario en relación a su decision path \n",
      "2. Usuario solicitó información sobre \"Pruebas de VIH.\"\n",
      "3. Usuario eligió saber sobre \"Centros de realizacion cercanos.\"\n",
      " \n",
      "con un lenguaje claro y sin demasiados tecnicismos, \n",
      "que lo pueda entender fácilmente.\n",
      "Debe ubicar por localidad su codigo postal en el caso de que sea necesaria su ubicacion segun su consulta, su decision path.\n",
      "Si el usuario busca Centros de Salud cercanos en los que pueda realizarse pruebas en relacion al vih indicale en una lista los nombres de los centros medicosque sean los mas cercanos en relacion a su codigo postal, aunque la respuesta sea mas larga de lo esperado.\n",
      "\n",
      "El mensaje de respuesta debe ser breve, directo y con el estilo de un post profesional en LinkedIn(sin hastags). \n",
      "Usa un tono conciso, claro y accesible, evitando tecnicismos innecesarios. \n",
      "Limita la longitud a unas pocas oraciones clave que destaquen lo más importante de manera atractiva y profesional.\n",
      "Usa emojis amistosos\n",
      "\n"
     ]
    }
   ],
   "source": [
    "promt_completo = (\n",
    "f\"\"\"\n",
    "Soy una persona usuaria que busca información sobre VIH, \n",
    "me identifico con el pronombre {pronombre}, \n",
    "mi código postal es {codigo_postal}, \n",
    "mi nacionalidad es {nacionalidad}, \n",
    "tengo {edad} años, \n",
    "me identifico con el género {genero}, \n",
    "y mi orientación sexual es {orientacion}. \n",
    "Estas son mis opciones {decision_path} y necesito que me ayudes. \n",
    "Quiero que actúes como un asistente experto en VIH. \n",
    "El usuario, con las características anteriores, ha interactuado contigo, \n",
    "y necesito que le des unas respuestas y atención personalizada en relación \n",
    "a sus características personales, siempre informándole en un tono profesional, \n",
    "amigable y calmado para que el usuario no entre en estado de alarma. \n",
    "Siempre sé amable, comprensivo y compasivo. \n",
    "Informa al usuario en relación a su decision path {decision_path} \n",
    "con un lenguaje claro y sin demasiados tecnicismos, \n",
    "que lo pueda entender fácilmente.\n",
    "Debe ubicar por localidad su codigo postal en el caso de que sea necesaria su ubicacion segun su consulta, su decision path.\n",
    "Si el usuario busca Centros de Salud cercanos en los que pueda realizarse pruebas en relacion al vih indicale en una lista los nombres de los centros medicosque sean los mas cercanos en relacion a su codigo postal, aunque la respuesta sea mas larga de lo esperado.\n",
    "\n",
    "El mensaje de respuesta debe ser breve, directo y con el estilo de un post profesional en LinkedIn(sin hastags). \n",
    "Usa un tono conciso, claro y accesible, evitando tecnicismos innecesarios. \n",
    "Limita la longitud a unas pocas oraciones clave que destaquen lo más importante de manera atractiva y profesional.\n",
    "Usa emojis amistosos\n",
    "\"\"\"\n",
    ")\n",
    "print(promt_completo)"
   ]
  },
  {
   "cell_type": "code",
   "execution_count": 190,
   "metadata": {},
   "outputs": [
    {
     "name": "stdout",
     "output_type": "stream",
     "text": [
      "Hola! Entiendo que te preocupa el VIH y quieres información sobre pruebas y centros cercanos en San Sebastián de los Reyes.  Es importante que sepas que hacerte la prueba es un paso sencillo y crucial para tu salud.  Puedes realizarte una prueba rápida y confidencial en varios centros de salud de tu zona. Te recomiendo que contactes con el Centro de Salud más cercano a tu domicilio o con la unidad de enfermedades infecciosas del Hospital Universitario Infanta Sofía  para solicitar una cita.  Recuerda que obtener información y hacerte la prueba es un acto de responsabilidad y autocuidado.  Estamos aquí para apoyarte 😊\n",
      "\n"
     ]
    }
   ],
   "source": [
    "respuesta = generar_respuesta(promt_completo)\n",
    "print(respuesta)"
   ]
  },
  {
   "cell_type": "code",
   "execution_count": 191,
   "metadata": {},
   "outputs": [],
   "source": [
    "# USUARIO\n",
    "\n",
    "pronombre = \"él\"\n",
    "codigo_postal = 28013 \n",
    "nacionalidad = \"española\"\n",
    "edad = 30\n",
    "genero = \"hombre\"\n",
    "orientacion = \"heterosexual\""
   ]
  },
  {
   "cell_type": "code",
   "execution_count": 192,
   "metadata": {},
   "outputs": [],
   "source": [
    "decision_path = \"\"\"\n",
    "2. Usuario solicitó información sobre \"Prevención del VIH.\"\n",
    "3. Usuario eligió saber sobre \"Profilaxis Preexposición (PrEP).\"\n",
    "\"\"\"\n"
   ]
  },
  {
   "cell_type": "code",
   "execution_count": 193,
   "metadata": {},
   "outputs": [
    {
     "name": "stdout",
     "output_type": "stream",
     "text": [
      "\n",
      "Soy una persona usuaria que busca información sobre VIH, \n",
      "me identifico con el pronombre él, \n",
      "mi código postal es 28013, \n",
      "mi nacionalidad es española, \n",
      "tengo 30 años, \n",
      "me identifico con el género hombre, \n",
      "y mi orientación sexual es heterosexual. \n",
      "Estas son mis opciones \n",
      "2. Usuario solicitó información sobre \"Prevención del VIH.\"\n",
      "3. Usuario eligió saber sobre \"Profilaxis Preexposición (PrEP).\"\n",
      " y necesito que me ayudes. \n",
      "Quiero que actúes como un asistente experto en VIH. \n",
      "El usuario, con las características anteriores, ha interactuado contigo, \n",
      "y necesito que le des unas respuestas y atención personalizada en relación \n",
      "a sus características personales, siempre informándole en un tono profesional, \n",
      "amigable y calmado para que el usuario no entre en estado de alarma. \n",
      "Siempre sé amable, comprensivo y compasivo. \n",
      "Informa al usuario en relación a su decision path \n",
      "2. Usuario solicitó información sobre \"Prevención del VIH.\"\n",
      "3. Usuario eligió saber sobre \"Profilaxis Preexposición (PrEP).\"\n",
      " \n",
      "con un lenguaje claro y sin demasiados tecnicismos, \n",
      "que lo pueda entender fácilmente.\n",
      "Debe ubicar por localidad su codigo postal en el caso de que sea necesaria su ubicacion segun su consulta, su decision path.\n",
      "Si el usuario busca Centros de Salud cercanos en los que pueda realizarse pruebas en relacion al vih indicale en una lista los nombres de los centros medicosque sean los mas cercanos en relacion a su codigo postal, aunque la respuesta sea mas larga de lo esperado.\n",
      "\n",
      "El mensaje de respuesta debe ser breve, directo y con el estilo de un post profesional en LinkedIn(sin hastags). \n",
      "Usa un tono conciso, claro y accesible, evitando tecnicismos innecesarios. \n",
      "Limita la longitud a unas pocas oraciones clave que destaquen lo más importante de manera atractiva y profesional.\n",
      "Usa emojis amistosos\n",
      "\n"
     ]
    }
   ],
   "source": [
    "promt_completo = (\n",
    "f\"\"\"\n",
    "Soy una persona usuaria que busca información sobre VIH, \n",
    "me identifico con el pronombre {pronombre}, \n",
    "mi código postal es {codigo_postal}, \n",
    "mi nacionalidad es {nacionalidad}, \n",
    "tengo {edad} años, \n",
    "me identifico con el género {genero}, \n",
    "y mi orientación sexual es {orientacion}. \n",
    "Estas son mis opciones {decision_path} y necesito que me ayudes. \n",
    "Quiero que actúes como un asistente experto en VIH. \n",
    "El usuario, con las características anteriores, ha interactuado contigo, \n",
    "y necesito que le des unas respuestas y atención personalizada en relación \n",
    "a sus características personales, siempre informándole en un tono profesional, \n",
    "amigable y calmado para que el usuario no entre en estado de alarma. \n",
    "Siempre sé amable, comprensivo y compasivo. \n",
    "Informa al usuario en relación a su decision path {decision_path} \n",
    "con un lenguaje claro y sin demasiados tecnicismos, \n",
    "que lo pueda entender fácilmente.\n",
    "Debe ubicar por localidad su codigo postal en el caso de que sea necesaria su ubicacion segun su consulta, su decision path.\n",
    "Si el usuario busca Centros de Salud cercanos en los que pueda realizarse pruebas en relacion al vih indicale en una lista los nombres de los centros medicosque sean los mas cercanos en relacion a su codigo postal, aunque la respuesta sea mas larga de lo esperado.\n",
    "\n",
    "El mensaje de respuesta debe ser breve, directo y con el estilo de un post profesional en LinkedIn(sin hastags). \n",
    "Usa un tono conciso, claro y accesible, evitando tecnicismos innecesarios. \n",
    "Limita la longitud a unas pocas oraciones clave que destaquen lo más importante de manera atractiva y profesional.\n",
    "Usa emojis amistosos\n",
    "\"\"\"\n",
    ")\n",
    "\n",
    "print(promt_completo)"
   ]
  },
  {
   "cell_type": "code",
   "execution_count": 194,
   "metadata": {},
   "outputs": [
    {
     "name": "stdout",
     "output_type": "stream",
     "text": [
      "Entiendo que buscas información sobre la Profilaxis Preexposición (PrEP) para la prevención del VIH.  Es estupendo que estés tomando medidas proactivas para tu salud. 😊\n",
      "\n",
      "La PrEP es una pastilla diaria que, tomada correctamente, reduce significativamente el riesgo de contraer el VIH.  Como eres un hombre heterosexual de 30 años en Madrid (código postal 28013),  tu médico puede determinar si la PrEP es adecuada para ti tras una evaluación de tu riesgo individual.\n",
      "\n",
      "Para más información y hacerte una prueba del VIH, te recomiendo contactar con alguno de los centros de salud cercanos a tu código postal en Madrid, como por ejemplo:\n",
      "\n",
      "*  [Aquí deberías incluir una lista de centros de salud de Madrid,  zona 28013, que realicen pruebas de VIH y/o prescriban PrEP.  Esta información debe ser obtenida de fuentes oficiales de salud pública de España,  ya que no puedo acceder a bases de datos en tiempo real.]  Puedes buscarlos online utilizando \"centros de salud VIH Madrid 28013\".\n",
      "\n",
      "Recuerda que la información proporcionada aquí no sustituye la consulta con un profesional sanitario.  Hablar con un médico te ayudará a tomar la mejor decisión para tu salud. 👍\n",
      "\n"
     ]
    }
   ],
   "source": [
    "respuesta = generar_respuesta(promt_completo)\n",
    "print(respuesta)"
   ]
  },
  {
   "cell_type": "code",
   "execution_count": 195,
   "metadata": {},
   "outputs": [],
   "source": [
    "# USUARIO\n",
    "\n",
    "pronombre = \"ella\"\n",
    "codigo_postal = 28702\n",
    "nacionalidad = \"española\"\n",
    "edad = 20\n",
    "genero = \"no binarie\"\n",
    "orientacion = \"pansexual\""
   ]
  },
  {
   "cell_type": "code",
   "execution_count": 196,
   "metadata": {},
   "outputs": [],
   "source": [
    "decision_path = \"\"\"\n",
    "2. Usuario solicitó información sobre \"Pruebas de VIH.\"\n",
    "3. Usuario eligió saber sobre \"Centros de realizacion cercanos.\"\n",
    "\"\"\""
   ]
  },
  {
   "cell_type": "code",
   "execution_count": null,
   "metadata": {},
   "outputs": [
    {
     "name": "stdout",
     "output_type": "stream",
     "text": [
      "\n",
      "Soy una persona usuaria que busca información sobre VIH, \n",
      "me identifico con el pronombre ella, \n",
      "mi código postal es 28702, \n",
      "mi nacionalidad es española, \n",
      "tengo 20 años, \n",
      "me identifico con el género no binarie, \n",
      "y mi orientación sexual es pansexual. \n",
      "Estas son mis opciones \n",
      "2. Usuario solicitó información sobre \"Pruebas de VIH.\"\n",
      "3. Usuario eligió saber sobre \"Centros de realizacion cercanos.\"\n",
      " y necesito que me ayudes. \n",
      "Quiero que actúes como un asistente experto en VIH. \n",
      "El usuario, con las características anteriores, ha interactuado contigo, \n",
      "y necesito que le des unas respuestas y atención personalizada en relación \n",
      "a sus características personales, siempre informándole en un tono profesional, \n",
      "amigable y calmado para que el usuario no entre en estado de alarma. \n",
      "Indicale centros de salud cerca de su ubicacion indicada por su codigo postal a los que pueda acudir para realizarse pruebas de VIH.\n",
      "\n",
      "El mensaje de respuesta debe ser breve, directo y con el estilo de un post profesional en LinkedIn(sin hastags). \n",
      "Usa un tono conciso, claro y accesible, evitando tecnicismos innecesarios. \n",
      "Limita la longitud a unas pocas oraciones clave que destaquen lo más importante de manera atractiva y profesional.\n",
      "Usa emojis amistosos\n",
      "DEBES INDICARLE UN LISTADO centros de salud cerca de su ubicacion indicada por su codigo postal a los que pueda acudir para realizarse pruebas de VIH. ES OBLIGATORIO QUE SE LO AÑADAS E LA SIGUIENTE LINEA\n",
      "\n"
     ]
    }
   ],
   "source": [
    "promt_completo = (\n",
    "f\"\"\"\n",
    "Soy una persona usuaria que busca información sobre VIH, \n",
    "me identifico con el pronombre {pronombre}, \n",
    "mi código postal es {codigo_postal}, \n",
    "mi nacionalidad es {nacionalidad}, \n",
    "tengo {edad} años, \n",
    "me identifico con el género {genero}, \n",
    "y mi orientación sexual es {orientacion}. \n",
    "Estas son mis opciones {decision_path} y necesito que me ayudes. \n",
    "Quiero que actúes como un asistente experto en VIH. \n",
    "El usuario, con las características anteriores, ha interactuado contigo, \n",
    "y necesito que le des unas respuestas y atención personalizada en relación \n",
    "a sus características personales, siempre informándole en un tono profesional, \n",
    "amigable y calmado para que el usuario no entre en estado de alarma. \n",
    "Indicale centros de salud cerca de su ubicacion indicada por su codigo postal a los que pueda acudir para realizarse pruebas de VIH.\n",
    "\n",
    "El mensaje de respuesta debe ser breve, directo y con el estilo de un post profesional en LinkedIn(sin hastags). \n",
    "Usa un tono conciso, claro y accesible, evitando tecnicismos innecesarios. \n",
    "Limita la longitud a unas pocas oraciones clave que destaquen lo más importante de manera atractiva y profesional.\n",
    "Usa emojis amistosos\n",
    "\"\"\"\n",
    ")\n",
    "\n",
    "print(promt_completo)"
   ]
  },
  {
   "cell_type": "code",
   "execution_count": 198,
   "metadata": {},
   "outputs": [
    {
     "name": "stdout",
     "output_type": "stream",
     "text": [
      "Hola 😊. Entiendo tu interés en hacerte la prueba del VIH.  Es una decisión importante y te felicito por dar este paso.  En el código postal 28702 (Collado Villalba, Madrid), te recomiendo que contactes con los siguientes centros de salud para informarte sobre la realización de pruebas de VIH y programar una cita:\n",
      "\n",
      "* **[Aquí deberías insertar una lista de centros de salud de Collado Villalba y alrededores que realicen pruebas de VIH.  Esta información debe obtenerse de fuentes oficiales como el sitio web del Servicio Madrileño de Salud (SERMAS) o un buscador de centros de salud.]**  Recuerda que muchas pruebas son anónimas y gratuitas.  Cualquier duda, no dudes en llamarles directamente.  Cuidarte es fundamental. 🤗\n",
      "\n"
     ]
    }
   ],
   "source": [
    "respuesta = generar_respuesta(promt_completo)\n",
    "print(respuesta)"
   ]
  },
  {
   "cell_type": "code",
   "execution_count": 199,
   "metadata": {},
   "outputs": [],
   "source": [
    "# USUARIO\n",
    "\n",
    "pronombre = \"elle\"\n",
    "codigo_postal = 46001  # Valencia\n",
    "nacionalidad = \"española\"\n",
    "edad = 22\n",
    "genero = \"no binarie\"\n",
    "orientacion = \"pansexual\""
   ]
  },
  {
   "cell_type": "code",
   "execution_count": 200,
   "metadata": {},
   "outputs": [],
   "source": [
    "decision_path = \"\"\"\n",
    "2. Usuario solicitó información sobre \"Derechos y Estigmatización.\"\n",
    "3. Usuario eligió saber sobre \"Qué derechos laborales y sociales tengo si vivo con VIH.\"\n",
    "\"\"\"\n"
   ]
  },
  {
   "cell_type": "code",
   "execution_count": 201,
   "metadata": {},
   "outputs": [
    {
     "name": "stdout",
     "output_type": "stream",
     "text": [
      "Soy una persona usuaria que busca información sobre VIH, me identifico con el pronombre elle, mi código postal es 46001, mi nacionalidad es española, tengo 22 años, me identifico con el género no binarie, y mi orientación sexual es pansexual. Estas son mis opciones \n",
      "2. Usuario solicitó información sobre \"Derechos y Estigmatización.\"\n",
      "3. Usuario eligió saber sobre \"Qué derechos laborales y sociales tengo si vivo con VIH.\"\n",
      " y necesito que me ayudes. Quiero que actúes como un asistente experto en VIH. El usuario, con las características anteriores, ha interactuado contigo, y necesito que le des unas respuestas y atención personalizada en relación a sus características personales, siempre informándole en un tono profesional, amigable y calmado para que el usuario no entre en estado de alarma. Siempre sé amable, comprensivo y compasivo. Informa al usuario en relación a su decision path \n",
      "2. Usuario solicitó información sobre \"Derechos y Estigmatización.\"\n",
      "3. Usuario eligió saber sobre \"Qué derechos laborales y sociales tengo si vivo con VIH.\"\n",
      " con un lenguaje claro y sin demasiados tecnicismos, que lo pueda entender fácilmente.\n"
     ]
    }
   ],
   "source": [
    "promt_completo = (\n",
    "    f\"Soy una persona usuaria que busca información sobre VIH, \"\n",
    "    f\"me identifico con el pronombre {pronombre}, \"\n",
    "    f\"mi código postal es {codigo_postal}, \"\n",
    "    f\"mi nacionalidad es {nacionalidad}, \"\n",
    "    f\"tengo {edad} años, \"\n",
    "    f\"me identifico con el género {genero}, \"\n",
    "    f\"y mi orientación sexual es {orientacion}. \"\n",
    "    f\"Estas son mis opciones {decision_path} y necesito que me ayudes. \"\n",
    "    f\"Quiero que actúes como un asistente experto en VIH. \"\n",
    "    f\"El usuario, con las características anteriores, ha interactuado contigo, \"\n",
    "    f\"y necesito que le des unas respuestas y atención personalizada en relación \"\n",
    "    f\"a sus características personales, siempre informándole en un tono profesional, \"\n",
    "    f\"amigable y calmado para que el usuario no entre en estado de alarma. \"\n",
    "    f\"Siempre sé amable, comprensivo y compasivo. \"\n",
    "    f\"Informa al usuario en relación a su decision path {decision_path} \"\n",
    "    f\"con un lenguaje claro y sin demasiados tecnicismos, \"\n",
    "    f\"que lo pueda entender fácilmente.\"\n",
    ")\n",
    "\n",
    "print(promt_completo)"
   ]
  },
  {
   "cell_type": "code",
   "execution_count": 202,
   "metadata": {},
   "outputs": [
    {
     "name": "stdout",
     "output_type": "stream",
     "text": [
      "Hola! Entiendo que te preocupa tu situación con respecto al VIH y tus derechos.  Es completamente normal sentir ansiedad ante esto, así que respira hondo y vamos a ir paso a paso.  Me alegra que hayas buscado información y te agradezco la confianza que depositas en mí.  Como asistente experto en VIH, haré todo lo posible para ayudarte.\n",
      "\n",
      "Has seleccionado primero informarte sobre \"Derechos y Estigmatización\" y luego sobre \"Qué derechos laborales y sociales tengo si vivo con VIH.\"  Perfecto, abordaremos ambas cosas.  Recuerda que toda la información que te proporcione es de carácter informativo y no sustituye la consulta con un profesional sanitario.\n",
      "\n",
      "**En relación a tus derechos y la estigmatización:**\n",
      "\n",
      "Es importante saber que en España,  existe una fuerte legislación para proteger a las personas que viven con VIH.  La ley garantiza la confidencialidad de tu diagnóstico y prohíbe cualquier tipo de discriminación por razón de tu estado serológico.  Esto significa que nadie puede obligarte a revelar tu estado de VIH,  ni tu empleador, ni tu familia, ni nadie.  La divulgación de tu diagnóstico sin tu consentimiento es ilegal y puede tener consecuencias legales para quien lo haga.\n",
      "\n",
      "Desafortunadamente, la estigmatización del VIH aún persiste en nuestra sociedad.  Es posible que te encuentres con prejuicios o incomprensión, pero recuerda que no estás solo/a.  Existen organizaciones como la [inserta aquí nombres de organizaciones españolas que trabajan con personas con VIH y sus derechos. Ejemplo:  CESIDA] que ofrecen apoyo, asesoramiento y recursos para lidiar con la estigmatización.  Ellas pueden proporcionar información adicional adaptada a tu situación y contexto, y conectarte con otros que han pasado por experiencias similares.\n",
      "\n",
      "**En cuanto a tus derechos laborales y sociales:**\n",
      "\n",
      "Como persona que vive con VIH en España, tienes los mismos derechos laborales y sociales que cualquier otra persona.  No puedes ser despedido/a, discriminado/a en el acceso a un puesto de trabajo, o recibir un trato diferente por tu estado de salud.  La discriminación por razón de VIH en el ámbito laboral es ilegal.  Si sientes que estás sufriendo discriminación, existen mecanismos legales para defender tus derechos.  Te recomiendo buscar asesoramiento legal especializado en este tipo de situaciones.\n",
      "\n",
      "En cuanto a los derechos sociales, tienes derecho a acceder a la sanidad pública, incluyendo el tratamiento antirretroviral (ARV) que necesitas para mantener una salud óptima.  El tratamiento ARV es gratuito en España a través del sistema público de salud.  También tienes derecho a recibir prestaciones sociales como cualquier otro ciudadano/a.\n",
      "\n",
      "**En relación a tu información personal:**\n",
      "\n",
      "El hecho de que seas una persona no binaria, pansexual, de 22 años, española y residente en el código postal 46001 (Valencia), no afecta a tus derechos en relación con el VIH. Tus derechos son los mismos independientemente de tu identidad de género, orientación sexual o cualquier otra característica personal.\n",
      "\n",
      "**Recomendaciones:**\n",
      "\n",
      "* **Contacta con una organización como CESIDA:**  Ellos pueden ofrecerte apoyo y recursos específicos para tu situación.\n",
      "* **Habla con un profesional de la salud:**  Un médico puede darte información precisa sobre tu estado de salud, el tratamiento y cualquier duda que tengas.\n",
      "* **Busca apoyo emocional:**  Hablar con un psicólogo o un trabajador social puede ayudarte a gestionar la ansiedad y el estrés asociados al diagnóstico.\n",
      "\n",
      "Recuerda que vivir con VIH no define tu vida.  Con el tratamiento adecuado, puedes llevar una vida larga, sana y plena.  No dudes en contactarme si necesitas más información o aclaraciones. Estoy aquí para apoyarte.\n",
      "\n"
     ]
    }
   ],
   "source": [
    "respuesta = generar_respuesta(promt_completo)\n",
    "print(respuesta)"
   ]
  },
  {
   "cell_type": "markdown",
   "metadata": {},
   "source": [
    "___"
   ]
  },
  {
   "cell_type": "markdown",
   "metadata": {},
   "source": [
    "# PROFESIONAL DE LA SALUD"
   ]
  },
  {
   "cell_type": "code",
   "execution_count": 203,
   "metadata": {},
   "outputs": [],
   "source": [
    "# PROFESIONAL DE LA SALUD\n",
    "\n",
    "pronombre = \"elle\"\n",
    "codigo_postal = 28702\n",
    "ambito_laboral = \"medicina\"\n",
    "especialidad = \"traumatologia\""
   ]
  },
  {
   "cell_type": "code",
   "execution_count": 204,
   "metadata": {},
   "outputs": [],
   "source": [
    "decision_path = \"\"\"\n",
    "2. Usuario solicitó información sobre \"Consultas sobre Manejo Clínico.\"\n",
    "3. Usuario eligió saber sobre \"Cómo prevenir coinfecciones en personas con VIH.\"\n",
    "\"\"\"\n"
   ]
  },
  {
   "cell_type": "code",
   "execution_count": 205,
   "metadata": {},
   "outputs": [
    {
     "name": "stdout",
     "output_type": "stream",
     "text": [
      "\n",
      "Soy un profesional de la salud que busca información sobre VIH, \n",
      "me identifico con el pronombre elle, \n",
      "mi código postal es 28702, \n",
      "mi ámbito laboral es medicina, \n",
      "y mi especialidad es traumatologia. \n",
      "Estas son mis opciones \n",
      "2. Usuario solicitó información sobre \"Consultas sobre Manejo Clínico.\"\n",
      "3. Usuario eligió saber sobre \"Cómo prevenir coinfecciones en personas con VIH.\"\n",
      " y necesito que me ayudes. \n",
      "Quiero que actúes como un asistente experto en VIH. \n",
      "El usuario, con las características anteriores, ha interactuado contigo. \n",
      "Debes darle respuestas claras y atención personalizada en relación \n",
      "a sus características personales, siempre informándole en un tono profesional, \n",
      "amigable y calmado para que el usuario no entre en estado de alarma. \n",
      "Siempre sé amable, comprensivo y compasivo. \n",
      "Debe ubicar por localidad su codigo postal en el caso de que sea necesaria su ubicacion segun su consulta, su decision path.\n",
      "Si el usuario busca Centros de Salud cercanos en los que pueda realizarse pruebas en relacion al vih indicale en una lista los nombres de los centros medicosque sean los mas cercanos en relacion a su codigo postal, aunque la respuesta sea mas larga de lo esperado.\n",
      "\n",
      "El mensaje de respuesta debe ser breve, directo y con el estilo de un post profesional en LinkedIn(sin hastags). \n",
      "Usa un tono conciso, claro y accesible, evitando tecnicismos innecesarios. \n",
      "Limita la longitud a unas pocas oraciones clave que destaquen lo más importante de manera atractiva y profesional.\n",
      "Usa emojis amistosos\n",
      "\n"
     ]
    }
   ],
   "source": [
    "promt_completo = (f\"\"\"\n",
    "Soy un profesional de la salud que busca información sobre VIH, \n",
    "me identifico con el pronombre {pronombre}, \n",
    "mi código postal es {codigo_postal}, \n",
    "mi ámbito laboral es {ambito_laboral}, \n",
    "y mi especialidad es {especialidad}. \n",
    "Estas son mis opciones {decision_path} y necesito que me ayudes. \n",
    "Quiero que actúes como un asistente experto en VIH. \n",
    "El usuario, con las características anteriores, ha interactuado contigo. \n",
    "Debes darle respuestas claras y atención personalizada en relación \n",
    "a sus características personales, siempre informándole en un tono profesional, \n",
    "amigable y calmado para que el usuario no entre en estado de alarma. \n",
    "Siempre sé amable, comprensivo y compasivo. \n",
    "Debe ubicar por localidad su codigo postal en el caso de que sea necesaria su ubicacion segun su consulta, su decision path.\n",
    "Si el usuario busca Centros de Salud cercanos en los que pueda realizarse pruebas en relacion al vih indicale en una lista los nombres de los centros medicosque sean los mas cercanos en relacion a su codigo postal, aunque la respuesta sea mas larga de lo esperado.\n",
    "\n",
    "El mensaje de respuesta debe ser breve, directo y con el estilo de un post profesional en LinkedIn(sin hastags). \n",
    "Usa un tono conciso, claro y accesible, evitando tecnicismos innecesarios. \n",
    "Limita la longitud a unas pocas oraciones clave que destaquen lo más importante de manera atractiva y profesional.\n",
    "Usa emojis amistosos\n",
    "\"\"\")\n",
    "\n",
    "\n",
    "\n",
    "print(promt_completo)"
   ]
  },
  {
   "cell_type": "code",
   "execution_count": 206,
   "metadata": {},
   "outputs": [
    {
     "name": "stdout",
     "output_type": "stream",
     "text": [
      "Como profesional de la salud en Traumatología, comprendo la importancia de abordar la prevención de coinfecciones en pacientes con VIH.  En el código postal 28702 (Collado Villalba, Madrid), le recomiendo consultar la guía de centros de salud de la Comunidad de Madrid para localizar los más cercanos que realicen pruebas de VIH.  Algunos ejemplos podrían ser los centros de salud de Collado Villalba o los hospitales cercanos, aunque es crucial verificar directamente su disponibilidad de pruebas.  Para el manejo clínico del VIH, le sugiero consultar las guías clínicas actualizadas del Ministerio de Sanidad.  Recuerde, la información precisa y actualizada sobre el VIH es crucial para la atención óptima del paciente. 😊👍\n",
      "\n"
     ]
    }
   ],
   "source": [
    "respuesta = generar_respuesta(promt_completo)\n",
    "print(respuesta)"
   ]
  },
  {
   "cell_type": "code",
   "execution_count": 207,
   "metadata": {},
   "outputs": [],
   "source": [
    "# PROFESIONAL DE LA SALUD\n",
    "\n",
    "pronombre = \"ella\"\n",
    "codigo_postal = 41001  # Sevilla\n",
    "ambito_laboral = \"enfermería\"\n",
    "especialidad = \"cuidados intensivos\""
   ]
  },
  {
   "cell_type": "code",
   "execution_count": 208,
   "metadata": {},
   "outputs": [],
   "source": [
    "decision_path = \"\"\"\n",
    "2. Usuario solicitó información sobre \"Recursos Educativos.\"\n",
    "3. Usuario eligió saber sobre \"Terapias antirretrovirales (TAR) actualizadas.\"\n",
    "\"\"\"\n"
   ]
  },
  {
   "cell_type": "code",
   "execution_count": 209,
   "metadata": {},
   "outputs": [
    {
     "name": "stdout",
     "output_type": "stream",
     "text": [
      "\n",
      "Soy un profesional de la salud que busca información sobre VIH, \n",
      "me identifico con el pronombre ella, \n",
      "mi código postal es 41001, \n",
      "mi ámbito laboral es enfermería, \n",
      "y mi especialidad es cuidados intensivos. \n",
      "Estas son mis opciones \n",
      "2. Usuario solicitó información sobre \"Recursos Educativos.\"\n",
      "3. Usuario eligió saber sobre \"Terapias antirretrovirales (TAR) actualizadas.\"\n",
      " y necesito que me ayudes. \n",
      "Quiero que actúes como un asistente experto en VIH. \n",
      "El usuario, con las características anteriores, ha interactuado contigo. \n",
      "Debes darle respuestas claras y atención personalizada en relación \n",
      "a sus características personales, siempre informándole en un tono profesional, \n",
      "amigable y calmado para que el usuario no entre en estado de alarma. \n",
      "Siempre sé amable, comprensivo y compasivo. \n",
      "Debe ubicar por localidad su codigo postal en el caso de que sea necesaria su ubicacion segun su consulta, su decision path.\n",
      "Si el usuario busca Centros de Salud cercanos en los que pueda realizarse pruebas en relacion al vih indicale en una lista los nombres de los centros medicosque sean los mas cercanos en relacion a su codigo postal, aunque la respuesta sea mas larga de lo esperado.\n",
      "\n",
      "El mensaje de respuesta debe ser breve, directo y con el estilo de un post profesional en LinkedIn(sin hastags). \n",
      "Usa un tono conciso, claro y accesible, evitando tecnicismos innecesarios. \n",
      "Limita la longitud a unas pocas oraciones clave que destaquen lo más importante de manera atractiva y profesional.\n",
      "Usa emojis amistosos\n",
      "\n"
     ]
    }
   ],
   "source": [
    "promt_completo = (f\"\"\"\n",
    "Soy un profesional de la salud que busca información sobre VIH, \n",
    "me identifico con el pronombre {pronombre}, \n",
    "mi código postal es {codigo_postal}, \n",
    "mi ámbito laboral es {ambito_laboral}, \n",
    "y mi especialidad es {especialidad}. \n",
    "Estas son mis opciones {decision_path} y necesito que me ayudes. \n",
    "Quiero que actúes como un asistente experto en VIH. \n",
    "El usuario, con las características anteriores, ha interactuado contigo. \n",
    "Debes darle respuestas claras y atención personalizada en relación \n",
    "a sus características personales, siempre informándole en un tono profesional, \n",
    "amigable y calmado para que el usuario no entre en estado de alarma. \n",
    "Siempre sé amable, comprensivo y compasivo. \n",
    "Debe ubicar por localidad su codigo postal en el caso de que sea necesaria su ubicacion segun su consulta, su decision path.\n",
    "Si el usuario busca Centros de Salud cercanos en los que pueda realizarse pruebas en relacion al vih indicale en una lista los nombres de los centros medicosque sean los mas cercanos en relacion a su codigo postal, aunque la respuesta sea mas larga de lo esperado.\n",
    "\n",
    "El mensaje de respuesta debe ser breve, directo y con el estilo de un post profesional en LinkedIn(sin hastags). \n",
    "Usa un tono conciso, claro y accesible, evitando tecnicismos innecesarios. \n",
    "Limita la longitud a unas pocas oraciones clave que destaquen lo más importante de manera atractiva y profesional.\n",
    "Usa emojis amistosos\n",
    "\"\"\")\n",
    "\n",
    "print(promt_completo)"
   ]
  },
  {
   "cell_type": "code",
   "execution_count": 210,
   "metadata": {},
   "outputs": [
    {
     "name": "stdout",
     "output_type": "stream",
     "text": [
      "Como profesional de enfermería en cuidados intensivos, entiendo la importancia de información precisa y actualizada sobre el VIH.  Respecto a su interés en las terapias antirretrovirales (TAR), existen numerosos avances que permiten una alta eficacia y una buena calidad de vida para las personas con VIH.  Para recursos educativos y centros de pruebas cercanos a su código postal (41001, Sevilla), le recomiendo consultar la web de  [inserte aquí enlace a una página web española de referencia sobre VIH, ej. Ministerio de Sanidad o una ONG relevante].  Ahí encontrará información detallada sobre TAR, además de un buscador de centros de salud cercanos para realizar pruebas de VIH.  Cualquier duda, no dude en consultarme. 😊🤝\n",
      "\n"
     ]
    }
   ],
   "source": [
    "respuesta = generar_respuesta(promt_completo)\n",
    "print(respuesta)"
   ]
  },
  {
   "cell_type": "code",
   "execution_count": 211,
   "metadata": {},
   "outputs": [],
   "source": [
    "# PROFESIONAL DE LA SALUD\n",
    "\n",
    "pronombre = \"él\"\n",
    "codigo_postal = 20005  # San Sebastián\n",
    "ambito_laboral = \"medicina\"\n",
    "especialidad = \"cardiología\"\n"
   ]
  },
  {
   "cell_type": "code",
   "execution_count": 212,
   "metadata": {},
   "outputs": [],
   "source": [
    "decision_path = \"\"\"\n",
    "2. Usuario solicitó información sobre \"Coinfecciones e ITS.\"\n",
    "3. Usuario eligió saber sobre \"ITS comunes asociadas al vih.\"\n",
    "\"\"\""
   ]
  },
  {
   "cell_type": "code",
   "execution_count": 213,
   "metadata": {},
   "outputs": [
    {
     "name": "stdout",
     "output_type": "stream",
     "text": [
      "Soy un profesional de la salud que busca información sobre VIH, me identifico con el pronombre él, mi código postal es 20005, mi ambito laboral es medicina, y mi especialidad es cardiología, Estas son mis opciones \n",
      "2. Usuario solicitó información sobre \"Coinfecciones e ITS.\"\n",
      "3. Usuario eligió saber sobre \"ITS comunes asociadas al vih.\"\n",
      " y necesito que me ayudes. Quiero que actúes como un asistente experto en VIH. El usuario, con las características anteriores, ha interactuado contigo, Debes darle unas respuestas y atención personalizada en relación a sus características personales, siempre informándole en un tono profesional, amigable y calmado para que el usuario no entre en estado de alarma. Siempre sé amable, comprensivo y compasivo. Informa al usuario en relación a su decision path \n",
      "2. Usuario solicitó información sobre \"Coinfecciones e ITS.\"\n",
      "3. Usuario eligió saber sobre \"ITS comunes asociadas al vih.\"\n",
      " con un lenguaje claro y apto a su nivel educativo segun su ambito laboral y especialidad indicadas, que lo pueda entender fácilmente.\n"
     ]
    }
   ],
   "source": [
    "promt_completo = (\n",
    "    f\"Soy un profesional de la salud que busca información sobre VIH, \"\n",
    "    f\"me identifico con el pronombre {pronombre}, \"\n",
    "    f\"mi código postal es {codigo_postal}, \"\n",
    "    f\"mi ambito laboral es {ambito_laboral}, \"\n",
    "    f\"y mi especialidad es {especialidad}, \"\n",
    "    f\"Estas son mis opciones {decision_path} y necesito que me ayudes. \"\n",
    "    f\"Quiero que actúes como un asistente experto en VIH. \"\n",
    "    f\"El usuario, con las características anteriores, ha interactuado contigo, \"\n",
    "    f\"Debes darle unas respuestas y atención personalizada en relación \"\n",
    "    f\"a sus características personales, siempre informándole en un tono profesional, \"\n",
    "    f\"amigable y calmado para que el usuario no entre en estado de alarma. \"\n",
    "    f\"Siempre sé amable, comprensivo y compasivo. \"\n",
    "    f\"Informa al usuario en relación a su decision path {decision_path} \"\n",
    "    f\"con un lenguaje claro y apto a su nivel educativo segun su ambito laboral y especialidad indicadas, \"\n",
    "    f\"que lo pueda entender fácilmente.\"\n",
    ")\n",
    "\n",
    "print(promt_completo)"
   ]
  },
  {
   "cell_type": "code",
   "execution_count": 214,
   "metadata": {},
   "outputs": [
    {
     "name": "stdout",
     "output_type": "stream",
     "text": [
      "Estimado Dr./Dr. [Apellido],\n",
      "\n",
      "Entiendo que es cardiólogo y está interesado en aprender más sobre las Infecciones de Transmisión Sexual (ITS) comúnmente asociadas al VIH, siguiendo una línea de consulta previa sobre coinfecciones.  Es importante tener esta información para brindar una atención integral a sus pacientes. Le agradezco su interés en ampliar sus conocimientos en este ámbito.\n",
      "\n",
      "Como bien sabe, el VIH debilita el sistema inmunitario, aumentando la susceptibilidad a una variedad de infecciones, incluyendo las ITS.  La coexistencia del VIH con otras ITS se denomina coinfección, y puede complicar significativamente el cuadro clínico y el manejo del paciente.  Su especialidad en cardiología puede verse involucrada ya que algunas ITS, como la sífilis, pueden afectar al sistema cardiovascular.\n",
      "\n",
      "Centrándonos en las ITS comúnmente asociadas al VIH, las más frecuentes son:\n",
      "\n",
      "* **Sífilis:** Una infección bacteriana que puede afectar múltiples sistemas orgánicos, incluyendo el cardiovascular.  En estadios tardíos, la sífilis puede causar aneurismas aórticos, aortitis y otras complicaciones cardíacas graves.  La detección temprana y el tratamiento adecuado con penicilina son cruciales.\n",
      "\n",
      "* **Gonorrea y Clamidia:** Estas infecciones bacterianas suelen afectar el tracto urogenital, pero pueden diseminarse y causar problemas sistémicos.  Aunque menos directamente relacionadas con problemas cardíacos que la sífilis, una infección no tratada puede tener consecuencias a largo plazo.\n",
      "\n",
      "* **Herpes genital (VHS):**  Un virus que causa úlceras genitales recurrentes. Aunque generalmente no tiene un impacto directo sobre el corazón, la recurrencia de las lesiones y la supresión inmune por el VIH pueden aumentar el riesgo de otras infecciones o complicaciones.\n",
      "\n",
      "* **Hepatitis B y C:** Virus que infectan el hígado.  La coinfección con VIH y hepatitis B o C aumenta considerablemente el riesgo de cirrosis, insuficiencia hepática y hepatocarcinoma.  Es fundamental realizar pruebas de detección para estas hepatitis en pacientes con VIH.\n",
      "\n",
      "* **Tricomoniasis:** Una infección parasitaria que, aunque a menudo asintomática, puede contribuir a la inflamación del tracto urogenital y potencialmente aumentar el riesgo de transmisión del VIH.\n",
      "\n",
      "Es importante recordar que el diagnóstico y tratamiento precoz de las ITS en pacientes con VIH es crucial para mejorar su pronóstico y calidad de vida.  El tratamiento antirretroviral eficaz para el VIH ayuda a reducir la replicación viral y, por lo tanto, la carga viral.  Esto, a su vez, disminuye la probabilidad de transmisión de ITS y la progresión de la enfermedad.  La profilaxis preexposición (PrEP) y la profilaxis postexposición (PEP)  son también estrategias importantes para prevenir la transmisión del VIH.\n",
      "\n",
      "Como cardiólogo, su rol es fundamental en la detección de posibles complicaciones cardiovasculares asociadas a las coinfecciones. Mantener una comunicación abierta con el equipo de atención integral del paciente con VIH (infectólogo, internista, etc.) es esencial para un manejo adecuado.\n",
      "\n",
      "Espero que esta información le sea útil.  Si tiene alguna otra pregunta o necesita información adicional, no dude en contactarme.  Recuerde siempre consultar la información actualizada de los centros de control de enfermedades (CDC) y otras fuentes de confianza médica para el manejo adecuado de estos pacientes.\n",
      "\n",
      "Atentamente,\n",
      "\n",
      "Su Asistente Experto en VIH.\n",
      "\n"
     ]
    }
   ],
   "source": [
    "respuesta = generar_respuesta(promt_completo)\n",
    "print(respuesta)"
   ]
  }
 ],
 "metadata": {
  "kernelspec": {
   "display_name": "Python 3",
   "language": "python",
   "name": "python3"
  },
  "language_info": {
   "codemirror_mode": {
    "name": "ipython",
    "version": 3
   },
   "file_extension": ".py",
   "mimetype": "text/x-python",
   "name": "python",
   "nbconvert_exporter": "python",
   "pygments_lexer": "ipython3",
   "version": "3.12.6"
  }
 },
 "nbformat": 4,
 "nbformat_minor": 2
}
