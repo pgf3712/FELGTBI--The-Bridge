{
 "cells": [
  {
   "cell_type": "code",
   "execution_count": 45,
   "metadata": {},
   "outputs": [],
   "source": [
    "import google.generativeai as genai\n",
    "from dotenv import load_dotenv\n",
    "import os"
   ]
  },
  {
   "cell_type": "code",
   "execution_count": 46,
   "metadata": {},
   "outputs": [
    {
     "data": {
      "text/plain": [
       "True"
      ]
     },
     "execution_count": 46,
     "metadata": {},
     "output_type": "execute_result"
    }
   ],
   "source": [
    "load_dotenv()"
   ]
  },
  {
   "cell_type": "code",
   "execution_count": 47,
   "metadata": {},
   "outputs": [],
   "source": [
    "gemini_api_key = os.getenv(\"GEMINI_API_KEY\")\n",
    "if not gemini_api_key:\n",
    "    raise ValueError(\"La clave GEMINI_API_KEY no está configurada en el archivo .env\")\n",
    "\n",
    "\n",
    "genai.configure(api_key=gemini_api_key)"
   ]
  },
  {
   "cell_type": "code",
   "execution_count": 48,
   "metadata": {},
   "outputs": [],
   "source": [
    "try:\n",
    "    model = genai.GenerativeModel(\"gemini-1.5-flash\")\n",
    "except Exception as e:\n",
    "    raise ValueError(f\"Error al cargar el modelo Gemini: {str(e)}\")"
   ]
  },
  {
   "cell_type": "code",
   "execution_count": 49,
   "metadata": {},
   "outputs": [],
   "source": [
    "def generar_respuesta(prompt):\n",
    "    try:\n",
    "        # Genera la respuesta usando el modelo cargado\n",
    "        response = model.generate_content(prompt)\n",
    "        return response.text\n",
    "    except Exception as e:\n",
    "        return f\"Error al generar respuesta: {str(e)}\""
   ]
  },
  {
   "attachments": {},
   "cell_type": "markdown",
   "metadata": {},
   "source": [
    "# USUARIO"
   ]
  },
  {
   "cell_type": "code",
   "execution_count": 50,
   "metadata": {},
   "outputs": [],
   "source": [
    "# USUARIO\n",
    "\n",
    "pronombre = \"elle\"\n",
    "codigo_postal = 28702\n",
    "nacionalidad = \"española\"\n",
    "edad = 20\n",
    "genero = \"no binarie\"\n",
    "orientacion = \"pansexual\""
   ]
  },
  {
   "cell_type": "code",
   "execution_count": 51,
   "metadata": {},
   "outputs": [],
   "source": [
    "decision_path = \"\"\"\n",
    "2. Usuario solicitó información sobre \"Pruebas de VIH.\"\n",
    "3. Usuario eligió saber sobre \"Qué tipos de pruebas están disponibles.\"\n",
    "\"\"\""
   ]
  },
  {
   "cell_type": "code",
   "execution_count": 52,
   "metadata": {},
   "outputs": [
    {
     "data": {
      "text/plain": [
       "'Soy una persona usuaria que busca información sobre VIH, me identifico con el pronombre elle, mi código postal es 28702, mi nacionalidad es española, tengo 20 años, me identifico con el género no binarie, y mi orientación sexual es pansexual. Estas son mis opciones \\n2. Usuario solicitó información sobre \"Pruebas de VIH.\"\\n3. Usuario eligió saber sobre \"Qué tipos de pruebas están disponibles.\"\\n y necesito que me ayudes. Quiero que actúes como un asistente experto en VIH. El usuario, con las características anteriores, ha interactuado contigo, y necesito que le des unas respuestas y atención personalizada en relación a sus características personales, siempre informándole en un tono profesional, amigable y calmado para que el usuario no entre en estado de alarma. Siempre sé amable, comprensivo y compasivo. Informa al usuario en relación a su decision path \\n2. Usuario solicitó información sobre \"Pruebas de VIH.\"\\n3. Usuario eligió saber sobre \"Qué tipos de pruebas están disponibles.\"\\n con un lenguaje claro y sin demasiados tecnicismos, que lo pueda entender fácilmente.'"
      ]
     },
     "execution_count": 52,
     "metadata": {},
     "output_type": "execute_result"
    }
   ],
   "source": [
    "promt_completo = (\n",
    "    f\"Soy una persona usuaria que busca información sobre VIH, \"\n",
    "    f\"me identifico con el pronombre {pronombre}, \"\n",
    "    f\"mi código postal es {codigo_postal}, \"\n",
    "    f\"mi nacionalidad es {nacionalidad}, \"\n",
    "    f\"tengo {edad} años, \"\n",
    "    f\"me identifico con el género {genero}, \"\n",
    "    f\"y mi orientación sexual es {orientacion}. \"\n",
    "    f\"Estas son mis opciones {decision_path} y necesito que me ayudes. \"\n",
    "    f\"Quiero que actúes como un asistente experto en VIH. \"\n",
    "    f\"El usuario, con las características anteriores, ha interactuado contigo, \"\n",
    "    f\"y necesito que le des unas respuestas y atención personalizada en relación \"\n",
    "    f\"a sus características personales, siempre informándole en un tono profesional, \"\n",
    "    f\"amigable y calmado para que el usuario no entre en estado de alarma. \"\n",
    "    f\"Siempre sé amable, comprensivo y compasivo. \"\n",
    "    f\"Informa al usuario en relación a su decision path {decision_path} \"\n",
    "    f\"con un lenguaje claro y sin demasiados tecnicismos, \"\n",
    "    f\"que lo pueda entender fácilmente.\"\n",
    ")\n",
    "\n",
    "promt_completo"
   ]
  },
  {
   "cell_type": "code",
   "execution_count": 53,
   "metadata": {},
   "outputs": [
    {
     "data": {
      "text/plain": [
       "'Hola! Entiendo que estás buscando información sobre las pruebas de VIH, y te agradezco que te pongas en contacto conmigo.  Es estupendo que estés proactivamente buscando información sobre tu salud.  Recuerda que es completamente normal tener preguntas y que no estás solo/a en esto.\\n\\nDado que has elegido saber qué tipos de pruebas de VIH están disponibles, te explicaré las principales, de forma clara y sencilla:\\n\\nExisten dos tipos principales de pruebas de VIH:\\n\\n* **Prueba de anticuerpos:** Esta prueba detecta los anticuerpos que tu cuerpo produce en respuesta al virus del VIH.  Estos anticuerpos aparecen generalmente entre 2 y 8 semanas después de la infección, aunque en algunos casos puede tardar más (hasta 6 meses, un periodo conocido como ventana inmunológica).  Hay varias maneras de realizar esta prueba:\\n\\n    * **Prueba de sangre:** Es la prueba más común y precisa. Se realiza en un centro de salud o laboratorio.\\n    * **Prueba rápida:** Se realiza con una muestra de sangre tomada de un pinchazo en el dedo.  Los resultados están disponibles en 20-30 minutos.  Puedes encontrar estas pruebas en muchos centros de salud, clínicas y algunas farmacias.\\n    * **Prueba de saliva:**  Similar a la prueba rápida, pero usa una muestra de saliva.  También ofrece resultados rápidos, pero su disponibilidad puede ser más limitada.\\n\\n* **Prueba de antígeno/anticuerpo:** Esta prueba es más sensible y detecta tanto los anticuerpos como el antígeno p24 (una parte del virus del VIH) en sangre. Esto permite detectar la infección en una etapa más temprana, incluso durante la ventana inmunológica. Se realiza mediante una prueba de sangre en un laboratorio.\\n\\n\\n**En tu caso específico (20 años, España, código postal 28702):**\\n\\nTe recomiendo que contactes con un centro de salud cercano a tu código postal (28702).  Puedes buscar en internet \"centros de salud 28702\" para encontrar uno cerca de ti.  Allí podrán ofrecerte asesoramiento personalizado, realizarte una prueba de VIH (probablemente una prueba de sangre) de forma gratuita y confidencial, y darte información sobre los servicios de prevención y atención del VIH en tu zona.  Recuerda que tu orientación sexual, identidad de género y nacionalidad no influyen en tu necesidad de hacerte la prueba si tienes alguna duda o preocupación.\\n\\nAdemás de los centros de salud, existen otras opciones para realizarte la prueba, como algunas clínicas privadas (aunque estas pueden tener un coste) y asociaciones que trabajan con personas afectadas por el VIH.  Si necesitas ayuda para encontrar estos recursos, no dudes en preguntarme.\\n\\nLo importante es que te sientas cómodo/a y seguro/a al realizarte la prueba. El personal sanitario está capacitado para tratarte con la máxima discreción y respeto.  No tengas miedo de preguntar cualquier duda que te surja.\\n\\nRecuerda que una prueba de VIH negativa te dará tranquilidad, y una prueba positiva te permitirá acceder a un tratamiento temprano que es altamente eficaz para controlar el virus y llevar una vida larga y saludable.\\n\\nEspero que esta información te sea útil. No dudes en contactarme si necesitas más aclaraciones o si tienes cualquier otra pregunta.  Estoy aquí para apoyarte.\\n'"
      ]
     },
     "execution_count": 53,
     "metadata": {},
     "output_type": "execute_result"
    }
   ],
   "source": [
    "respuesta = generar_respuesta(promt_completo)\n",
    "respuesta"
   ]
  },
  {
   "cell_type": "code",
   "execution_count": 54,
   "metadata": {},
   "outputs": [],
   "source": [
    "# USUARIO\n",
    "\n",
    "pronombre = \"él\"\n",
    "codigo_postal = 28013 \n",
    "nacionalidad = \"española\"\n",
    "edad = 30\n",
    "genero = \"hombre\"\n",
    "orientacion = \"heterosexual\""
   ]
  },
  {
   "cell_type": "code",
   "execution_count": 55,
   "metadata": {},
   "outputs": [],
   "source": [
    "decision_path = \"\"\"\n",
    "2. Usuario solicitó información sobre \"Prevención del VIH.\"\n",
    "3. Usuario eligió saber sobre \"Profilaxis Preexposición (PrEP).\"\n",
    "\"\"\"\n"
   ]
  },
  {
   "cell_type": "code",
   "execution_count": 56,
   "metadata": {},
   "outputs": [
    {
     "data": {
      "text/plain": [
       "'Soy una persona usuaria que busca información sobre VIH, me identifico con el pronombre él, mi código postal es 28013, mi nacionalidad es española, tengo 30 años, me identifico con el género hombre, y mi orientación sexual es heterosexual. Estas son mis opciones \\n2. Usuario solicitó información sobre \"Prevención del VIH.\"\\n3. Usuario eligió saber sobre \"Profilaxis Preexposición (PrEP).\"\\n y necesito que me ayudes. Quiero que actúes como un asistente experto en VIH. El usuario, con las características anteriores, ha interactuado contigo, y necesito que le des unas respuestas y atención personalizada en relación a sus características personales, siempre informándole en un tono profesional, amigable y calmado para que el usuario no entre en estado de alarma. Siempre sé amable, comprensivo y compasivo. Informa al usuario en relación a su decision path \\n2. Usuario solicitó información sobre \"Prevención del VIH.\"\\n3. Usuario eligió saber sobre \"Profilaxis Preexposición (PrEP).\"\\n con un lenguaje claro y sin demasiados tecnicismos, que lo pueda entender fácilmente.'"
      ]
     },
     "execution_count": 56,
     "metadata": {},
     "output_type": "execute_result"
    }
   ],
   "source": [
    "promt_completo = (\n",
    "    f\"Soy una persona usuaria que busca información sobre VIH, \"\n",
    "    f\"me identifico con el pronombre {pronombre}, \"\n",
    "    f\"mi código postal es {codigo_postal}, \"\n",
    "    f\"mi nacionalidad es {nacionalidad}, \"\n",
    "    f\"tengo {edad} años, \"\n",
    "    f\"me identifico con el género {genero}, \"\n",
    "    f\"y mi orientación sexual es {orientacion}. \"\n",
    "    f\"Estas son mis opciones {decision_path} y necesito que me ayudes. \"\n",
    "    f\"Quiero que actúes como un asistente experto en VIH. \"\n",
    "    f\"El usuario, con las características anteriores, ha interactuado contigo, \"\n",
    "    f\"y necesito que le des unas respuestas y atención personalizada en relación \"\n",
    "    f\"a sus características personales, siempre informándole en un tono profesional, \"\n",
    "    f\"amigable y calmado para que el usuario no entre en estado de alarma. \"\n",
    "    f\"Siempre sé amable, comprensivo y compasivo. \"\n",
    "    f\"Informa al usuario en relación a su decision path {decision_path} \"\n",
    "    f\"con un lenguaje claro y sin demasiados tecnicismos, \"\n",
    "    f\"que lo pueda entender fácilmente.\"\n",
    ")\n",
    "\n",
    "promt_completo"
   ]
  },
  {
   "cell_type": "code",
   "execution_count": 57,
   "metadata": {},
   "outputs": [
    {
     "data": {
      "text/plain": [
       "'Hola. Entiendo que estás buscando información sobre la Profilaxis Preexposición (PrEP) para la prevención del VIH.  Es fantástico que estés tomando la iniciativa para proteger tu salud.  Vamos a hablar sobre ello con calma y claridad.  Dado que eres un hombre heterosexual de 30 años, residente en Madrid (código postal 28013),  te daré información adaptada a tu situación.\\n\\nPrimero, quiero destacar que la PrEP es una herramienta muy efectiva para prevenir el VIH, pero no es la única.  Elegir la PrEP como método de prevención es una decisión personal, y es importante que estés bien informado para tomar la mejor decisión para ti.\\n\\n**¿Qué es la PrEP?**\\n\\nLa PrEP es un medicamento antiviral que se toma diariamente para prevenir la infección por el VIH.  Funciona al crear una barrera de protección en tu cuerpo, evitando que el virus se multiplique si llegara a entrar.  Es muy importante seguir el tratamiento tal y como te lo indique tu médico.  Si no se toma de manera consistente, la efectividad disminuye.\\n\\n**¿Es la PrEP adecuada para ti?**\\n\\nComo eres heterosexual, tu riesgo de contraer el VIH podría ser considerado bajo en comparación con otros grupos de mayor riesgo.  Sin embargo, el riesgo cero no existe, y la PrEP puede ser una opción adecuada si:\\n\\n* **Tienes una pareja con un estatus serológico desconocido o positivo.** En este caso, la PrEP te protegerá. Es importante discutirlo abiertamente con tu pareja.\\n* **Tienes relaciones sexuales ocasionales o con múltiples parejas.**  Aunque seas heterosexual, la PrEP puede ofrecerte una capa extra de protección en estas circunstancias.\\n* **Te preocupa tu riesgo, independientemente de la frecuencia de tus relaciones sexuales.**  La PrEP puede darte tranquilidad y control sobre tu salud sexual.\\n\\n**¿Cuáles son los pasos a seguir?**\\n\\n1. **Habla con tu médico:**  Es fundamental que consultes con tu médico o un especialista en enfermedades infecciosas. Ellos evaluarán tu riesgo individual, te realizarán un análisis de sangre para descartar la infección por VIH y otras infecciones de transmisión sexual (ITS), y te informarán sobre los posibles efectos secundarios de la PrEP.  Te pueden recomendar un centro especializado en VIH en Madrid.  Recuerda que tu información médica es confidencial.\\n2. **Realiza las pruebas necesarias:**  Antes de comenzar la PrEP, se te realizarán análisis de sangre para descartar la infección por VIH y otras ITS. Es importante tratar cualquier ITS antes de comenzar la PrEP para una mayor efectividad.  Estos análisis se repetirán periódicamente durante el tratamiento.\\n3. **Comienza el tratamiento (si es adecuado para ti):** Si tu médico considera que la PrEP es adecuada para ti, te recetará el medicamento y te explicará cómo tomarlo correctamente.\\n4. **Realiza un seguimiento regular:**  Debes realizar visitas regulares a tu médico para realizarte análisis de sangre y controlar tu salud.\\n\\n\\n**Recuerda:** La PrEP no protege contra otras ITS, por lo que es esencial utilizar preservativos para protegerte de otras infecciones.\\n\\nNo te preocupes por formular cualquier pregunta que tengas.  Es normal sentir incertidumbre al considerar la PrEP. El objetivo es que te sientas seguro e informado para tomar la mejor decisión para tu salud.  Tu médico te ayudará en todo el proceso.  Busca información adicional en fuentes fiables como el Ministerio de Sanidad o asociaciones como CESIDA.  Estoy aquí para ayudarte en lo que necesites.\\n'"
      ]
     },
     "execution_count": 57,
     "metadata": {},
     "output_type": "execute_result"
    }
   ],
   "source": [
    "respuesta = generar_respuesta(promt_completo)\n",
    "respuesta"
   ]
  },
  {
   "cell_type": "code",
   "execution_count": 58,
   "metadata": {},
   "outputs": [],
   "source": [
    "# USUARIO\n",
    "\n",
    "pronombre = \"elle\"\n",
    "codigo_postal = 46001  # Valencia\n",
    "nacionalidad = \"española\"\n",
    "edad = 22\n",
    "genero = \"no binarie\"\n",
    "orientacion = \"pansexual\""
   ]
  },
  {
   "cell_type": "code",
   "execution_count": 59,
   "metadata": {},
   "outputs": [],
   "source": [
    "decision_path = \"\"\"\n",
    "2. Usuario solicitó información sobre \"Derechos y Estigmatización.\"\n",
    "3. Usuario eligió saber sobre \"Qué derechos laborales y sociales tengo si vivo con VIH.\"\n",
    "\"\"\"\n"
   ]
  },
  {
   "cell_type": "code",
   "execution_count": 60,
   "metadata": {},
   "outputs": [
    {
     "data": {
      "text/plain": [
       "'Soy una persona usuaria que busca información sobre VIH, me identifico con el pronombre elle, mi código postal es 46001, mi nacionalidad es española, tengo 22 años, me identifico con el género no binarie, y mi orientación sexual es pansexual. Estas son mis opciones \\n2. Usuario solicitó información sobre \"Derechos y Estigmatización.\"\\n3. Usuario eligió saber sobre \"Qué derechos laborales y sociales tengo si vivo con VIH.\"\\n y necesito que me ayudes. Quiero que actúes como un asistente experto en VIH. El usuario, con las características anteriores, ha interactuado contigo, y necesito que le des unas respuestas y atención personalizada en relación a sus características personales, siempre informándole en un tono profesional, amigable y calmado para que el usuario no entre en estado de alarma. Siempre sé amable, comprensivo y compasivo. Informa al usuario en relación a su decision path \\n2. Usuario solicitó información sobre \"Derechos y Estigmatización.\"\\n3. Usuario eligió saber sobre \"Qué derechos laborales y sociales tengo si vivo con VIH.\"\\n con un lenguaje claro y sin demasiados tecnicismos, que lo pueda entender fácilmente.'"
      ]
     },
     "execution_count": 60,
     "metadata": {},
     "output_type": "execute_result"
    }
   ],
   "source": [
    "promt_completo = (\n",
    "    f\"Soy una persona usuaria que busca información sobre VIH, \"\n",
    "    f\"me identifico con el pronombre {pronombre}, \"\n",
    "    f\"mi código postal es {codigo_postal}, \"\n",
    "    f\"mi nacionalidad es {nacionalidad}, \"\n",
    "    f\"tengo {edad} años, \"\n",
    "    f\"me identifico con el género {genero}, \"\n",
    "    f\"y mi orientación sexual es {orientacion}. \"\n",
    "    f\"Estas son mis opciones {decision_path} y necesito que me ayudes. \"\n",
    "    f\"Quiero que actúes como un asistente experto en VIH. \"\n",
    "    f\"El usuario, con las características anteriores, ha interactuado contigo, \"\n",
    "    f\"y necesito que le des unas respuestas y atención personalizada en relación \"\n",
    "    f\"a sus características personales, siempre informándole en un tono profesional, \"\n",
    "    f\"amigable y calmado para que el usuario no entre en estado de alarma. \"\n",
    "    f\"Siempre sé amable, comprensivo y compasivo. \"\n",
    "    f\"Informa al usuario en relación a su decision path {decision_path} \"\n",
    "    f\"con un lenguaje claro y sin demasiados tecnicismos, \"\n",
    "    f\"que lo pueda entender fácilmente.\"\n",
    ")\n",
    "\n",
    "promt_completo"
   ]
  },
  {
   "cell_type": "code",
   "execution_count": 61,
   "metadata": {},
   "outputs": [
    {
     "data": {
      "text/plain": [
       "'Hola, entiendo que te preocupa tu situación y que buscas información sobre tus derechos laborales y sociales viviendo con VIH en España.  Es importante que sepas que estás en un buen lugar para obtener respuestas y que no estás solo/a.  Te daré la información que necesitas de una manera clara y sencilla, y recuerda que puedes hacerme cualquier otra pregunta que te surja.\\n\\nComo has elegido la opción de  \"Derechos y Estigmatización\" y posteriormente \"Qué derechos laborales y sociales tengo si vivo con VIH\", te explicaré ambos aspectos.\\n\\n**Primero, sobre los derechos y la estigmatización:**\\n\\nEs fundamental comprender que el VIH está protegido por la legislación española contra la discriminación.  La Ley Orgánica 3/2007, de 22 de marzo, para la igualdad efectiva de mujeres y hombres, y la Ley 51/2003, de 2 de diciembre, de igualdad de oportunidades, no discriminación y accesibilidad universal de las personas con discapacidad, protegen a las personas con VIH de la discriminación.  Esto significa que nadie puede discriminarte por tu condición de salud en ningún ámbito: laboral, social, sanitario, educativo, etc.\\n\\nDesafortunadamente, la estigmatización asociada al VIH sigue siendo una realidad.  Muchas personas tienen ideas erróneas sobre cómo se transmite el VIH y esto puede llevar a prejuicios y discriminación.  Es importante recordar que el VIH no se transmite a través del contacto casual, como abrazos, besos, compartir cubiertos, etc.  La transmisión se produce principalmente a través del contacto sexual sin protección, el intercambio de agujas y de madre a hijo durante el embarazo, el parto o la lactancia.\\n\\nSi experimentas cualquier tipo de discriminación (insultos, exclusión, comentarios despectivos, etc.), debes saber que tienes derecho a denunciarlo. Existen organizaciones que te pueden ayudar y asesorar en este proceso.  Más adelante te daré información de contacto.\\n\\n**Segundo, sobre tus derechos laborales y sociales si vives con VIH:**\\n\\nEn España, tienes derecho a:\\n\\n* **Igualdad de oportunidades en el trabajo:**  No te pueden despedir, negarte un empleo o un ascenso por tu condición de VIH.  Tu información médica es confidencial y tu empleador no tiene derecho a conocerla.\\n* **Acceso a la Seguridad Social:**  Tienes derecho a recibir las prestaciones de la Seguridad Social como cualquier otra persona.  Esto incluye la pensión de jubilación, la baja por enfermedad, etc.\\n* **Acceso a la sanidad pública:**  Tienes derecho a recibir atención médica gratuita y de calidad a través del Sistema Nacional de Salud (SNS).  El tratamiento antirretroviral es fundamental para controlar el virus y mantener una buena salud, y es accesible a través del SNS.\\n* **Secreto profesional:**  Cualquier profesional de la salud que te atienda está obligado a mantener la confidencialidad de tu información médica.\\n\\n**Es importante que no te sientas avergonzado/a ni tengas miedo de buscar ayuda.**  Existen organizaciones que ofrecen apoyo, información y asesoramiento a personas que viven con VIH.  Estas organizaciones pueden ayudarte a lidiar con la estigmatización, defender tus derechos y acceder a los recursos que necesitas.\\n\\nTe recomiendo que contactes con:\\n\\n* **CESIDA (Comisión Española del SIDA):**  Puedes encontrar información y recursos en su página web.  Suelen tener líneas telefónicas de atención y pueden poner en contacto con asociaciones en tu zona (Valencia, código postal 46001).\\n* **Asociaciones locales de VIH/SIDA en Valencia:**  Busca en internet \"asociaciones VIH Valencia\" para encontrar organizaciones cercanas que te puedan ofrecer apoyo y orientación personalizada.\\n\\nRecuerda que vivir con VIH no te define como persona, y tienes los mismos derechos y oportunidades que cualquier otra persona.  No dudes en contactarme si necesitas más información o aclaraciones.  Estoy aquí para apoyarte.\\n'"
      ]
     },
     "execution_count": 61,
     "metadata": {},
     "output_type": "execute_result"
    }
   ],
   "source": [
    "respuesta = generar_respuesta(promt_completo)\n",
    "respuesta"
   ]
  },
  {
   "attachments": {},
   "cell_type": "markdown",
   "metadata": {},
   "source": [
    "___"
   ]
  },
  {
   "attachments": {},
   "cell_type": "markdown",
   "metadata": {},
   "source": [
    "# PROFESIONAL DE LA SALUD"
   ]
  },
  {
   "cell_type": "code",
   "execution_count": 62,
   "metadata": {},
   "outputs": [],
   "source": [
    "# PROFESIONAL DE LA SALUD\n",
    "\n",
    "pronombre = \"elle\"\n",
    "codigo_postal = 28702\n",
    "ambito_laboral = \"medicina\"\n",
    "especialidad = \"traumatologia\""
   ]
  },
  {
   "cell_type": "code",
   "execution_count": 63,
   "metadata": {},
   "outputs": [],
   "source": [
    "decision_path = \"\"\"\n",
    "2. Usuario solicitó información sobre \"Consultas sobre Manejo Clínico.\"\n",
    "3. Usuario eligió saber sobre \"Cómo prevenir coinfecciones en personas con VIH.\"\n",
    "\"\"\"\n"
   ]
  },
  {
   "cell_type": "code",
   "execution_count": 64,
   "metadata": {},
   "outputs": [
    {
     "data": {
      "text/plain": [
       "'Soy un profesional de la salud que busca información sobre VIH, me identifico con el pronombre elle, mi código postal es 28702, mi ambito laboral es medicina, y mi especialidad es traumatologia, Estas son mis opciones \\n2. Usuario solicitó información sobre \"Consultas sobre Manejo Clínico.\"\\n3. Usuario eligió saber sobre \"Cómo prevenir coinfecciones en personas con VIH.\"\\n y necesito que me ayudes. Quiero que actúes como un asistente experto en VIH. El usuario, con las características anteriores, ha interactuado contigo, Debes darle unas respuestas y atención personalizada en relación a sus características personales, siempre informándole en un tono profesional, amigable y calmado para que el usuario no entre en estado de alarma. Siempre sé amable, comprensivo y compasivo. Informa al usuario en relación a su decision path \\n2. Usuario solicitó información sobre \"Consultas sobre Manejo Clínico.\"\\n3. Usuario eligió saber sobre \"Cómo prevenir coinfecciones en personas con VIH.\"\\n con un lenguaje claro y apto a su nivel educativo segun su ambito laboral y especialidad indicadas, que lo pueda entender fácilmente.'"
      ]
     },
     "execution_count": 64,
     "metadata": {},
     "output_type": "execute_result"
    }
   ],
   "source": [
    "promt_completo = (\n",
    "    f\"Soy un profesional de la salud que busca información sobre VIH, \"\n",
    "    f\"me identifico con el pronombre {pronombre}, \"\n",
    "    f\"mi código postal es {codigo_postal}, \"\n",
    "    f\"mi ambito laboral es {ambito_laboral}, \"\n",
    "    f\"y mi especialidad es {especialidad}, \"\n",
    "    f\"Estas son mis opciones {decision_path} y necesito que me ayudes. \"\n",
    "    f\"Quiero que actúes como un asistente experto en VIH. \"\n",
    "    f\"El usuario, con las características anteriores, ha interactuado contigo, \"\n",
    "    f\"Debes darle unas respuestas y atención personalizada en relación \"\n",
    "    f\"a sus características personales, siempre informándole en un tono profesional, \"\n",
    "    f\"amigable y calmado para que el usuario no entre en estado de alarma. \"\n",
    "    f\"Siempre sé amable, comprensivo y compasivo. \"\n",
    "    f\"Informa al usuario en relación a su decision path {decision_path} \"\n",
    "    f\"con un lenguaje claro y apto a su nivel educativo segun su ambito laboral y especialidad indicadas, \"\n",
    "    f\"que lo pueda entender fácilmente.\"\n",
    ")\n",
    "\n",
    "promt_completo"
   ]
  },
  {
   "cell_type": "code",
   "execution_count": 65,
   "metadata": {},
   "outputs": [
    {
     "data": {
      "text/plain": [
       "'Estimada profesional de la salud,\\n\\nEntiendo que usted, como traumatóloga en el código postal 28702, busca información sobre el VIH, específicamente sobre el manejo clínico y la prevención de coinfecciones.  Me complace poder ayudarle.  Como asistente experto en VIH, le ofreceré información clara y concisa, adaptada a su contexto profesional.\\n\\nPrimero, es importante destacar que su interés en la prevención de coinfecciones en pacientes con VIH demuestra un compromiso admirable con la atención integral de sus pacientes.  La traumatología, aunque no se centra directamente en las infecciones,  puede verse involucrada en el cuidado de pacientes con VIH que sufren traumas o requieren cirugía.  Por lo tanto, entender la prevención de coinfecciones es relevante para su práctica.\\n\\nUsted seleccionó dos temas clave:\\n\\n**1. Consultas sobre Manejo Clínico del VIH:**\\n\\nEl manejo clínico del VIH ha evolucionado enormemente.  Hoy en día, con la terapia antirretroviral (TAR) altamente activa, el VIH se considera una enfermedad crónica controlable.  La meta del tratamiento es suprimir la carga viral hasta niveles indetectables, lo que previene la progresión de la enfermedad y la transmisión del virus.  El manejo clínico involucra:\\n\\n* **Diagnóstico:**  Pruebas de sangre para detectar anticuerpos y/o antígenos del VIH.\\n* **Monitorización:**  Control regular de la carga viral y del recuento de células CD4.\\n* **Terapia antirretroviral (TAR):**  Combinación de medicamentos para suprimir la replicación del virus.  La elección del régimen terapéutico se personaliza según factores como el historial clínico del paciente, posibles interacciones medicamentosas y la presencia de resistencia a los fármacos.\\n* **Prevención de oportunidades:** Vacunación contra enfermedades prevenibles como la influenza y el neumococo.\\n* **Control de comorbilidades:**  Manejo de otras afecciones, incluyendo enfermedades cardíacas, renales, hepáticas y metabólicas, que son más frecuentes en personas con VIH.\\n* **Atención psicosocial:**  Apoyo emocional y asesoramiento para afrontar los retos relacionados con la enfermedad.\\n\\n\\n**2. Cómo prevenir coinfecciones en personas con VIH:**\\n\\nLas personas con VIH tienen un sistema inmunológico comprometido, lo que las hace más susceptibles a las coinfecciones.  La prevención es crucial y se basa en:\\n\\n* **Vacunación:**  Vacunación contra el virus de la influenza, el neumococo, el virus del papiloma humano (VPH), la hepatitis A y B y otras enfermedades prevenibles por vacunas.  Es vital mantenerse al día con las vacunas recomendadas.\\n* **Higiene:**  Prácticas de higiene rigurosas, como lavado frecuente de manos, para prevenir infecciones respiratorias, gastrointestinales y cutáneas.\\n* **Seguridad alimentaria:**  Medidas para prevenir intoxicaciones alimentarias.\\n* **Prácticas sexuales seguras:**  Uso de preservativos para prevenir enfermedades de transmisión sexual (ETS).\\n* **Prevención de infecciones por transmisión sanguínea:** Uso adecuado de agujas y jeringas (si se aplican inyecciones).\\n* **Vigilancia activa:**  Evaluación regular del paciente para detectar precozmente posibles coinfecciones.  Esto incluye revisiones periódicas y pruebas específicas en función de los factores de riesgo.\\n* **Tratamiento oportuno:**  Si se detecta una coinfección, el tratamiento debe iniciarse lo antes posible para prevenir complicaciones.\\n\\nRecuerde que el manejo del VIH es multidisciplinario, requiriendo la colaboración de diferentes especialistas, incluyendo médicos generales, infectólogos, y otros especialistas según las necesidades del paciente.  Como traumatóloga, su papel es crucial en la atención integral, considerando la prevención de coinfecciones y el estado inmunitario del paciente en el preoperatorio, durante la cirugía y en el postoperatorio.\\n\\n\\nEspero que esta información le sea útil.  Si tiene alguna otra pregunta o necesita información más detallada sobre algún aspecto en particular, no dude en consultarme.  Recuerde que siempre podemos trabajar juntos para ofrecer la mejor atención a nuestros pacientes.\\n'"
      ]
     },
     "execution_count": 65,
     "metadata": {},
     "output_type": "execute_result"
    }
   ],
   "source": [
    "respuesta = generar_respuesta(promt_completo)\n",
    "respuesta"
   ]
  },
  {
   "cell_type": "code",
   "execution_count": 66,
   "metadata": {},
   "outputs": [],
   "source": [
    "# PROFESIONAL DE LA SALUD\n",
    "\n",
    "pronombre = \"ella\"\n",
    "codigo_postal = 41001  # Sevilla\n",
    "ambito_laboral = \"enfermería\"\n",
    "especialidad = \"cuidados intensivos\""
   ]
  },
  {
   "cell_type": "code",
   "execution_count": 67,
   "metadata": {},
   "outputs": [],
   "source": [
    "decision_path = \"\"\"\n",
    "2. Usuario solicitó información sobre \"Recursos Educativos.\"\n",
    "3. Usuario eligió saber sobre \"Terapias antirretrovirales (TAR) actualizadas.\"\n",
    "\"\"\"\n"
   ]
  },
  {
   "cell_type": "code",
   "execution_count": 68,
   "metadata": {},
   "outputs": [
    {
     "data": {
      "text/plain": [
       "'Soy un profesional de la salud que busca información sobre VIH, me identifico con el pronombre ella, mi código postal es 41001, mi ambito laboral es enfermería, y mi especialidad es cuidados intensivos, Estas son mis opciones \\n2. Usuario solicitó información sobre \"Recursos Educativos.\"\\n3. Usuario eligió saber sobre \"Terapias antirretrovirales (TAR) actualizadas.\"\\n y necesito que me ayudes. Quiero que actúes como un asistente experto en VIH. El usuario, con las características anteriores, ha interactuado contigo, Debes darle unas respuestas y atención personalizada en relación a sus características personales, siempre informándole en un tono profesional, amigable y calmado para que el usuario no entre en estado de alarma. Siempre sé amable, comprensivo y compasivo. Informa al usuario en relación a su decision path \\n2. Usuario solicitó información sobre \"Recursos Educativos.\"\\n3. Usuario eligió saber sobre \"Terapias antirretrovirales (TAR) actualizadas.\"\\n con un lenguaje claro y apto a su nivel educativo segun su ambito laboral y especialidad indicadas, que lo pueda entender fácilmente.'"
      ]
     },
     "execution_count": 68,
     "metadata": {},
     "output_type": "execute_result"
    }
   ],
   "source": [
    "promt_completo = (\n",
    "    f\"Soy un profesional de la salud que busca información sobre VIH, \"\n",
    "    f\"me identifico con el pronombre {pronombre}, \"\n",
    "    f\"mi código postal es {codigo_postal}, \"\n",
    "    f\"mi ambito laboral es {ambito_laboral}, \"\n",
    "    f\"y mi especialidad es {especialidad}, \"\n",
    "    f\"Estas son mis opciones {decision_path} y necesito que me ayudes. \"\n",
    "    f\"Quiero que actúes como un asistente experto en VIH. \"\n",
    "    f\"El usuario, con las características anteriores, ha interactuado contigo, \"\n",
    "    f\"Debes darle unas respuestas y atención personalizada en relación \"\n",
    "    f\"a sus características personales, siempre informándole en un tono profesional, \"\n",
    "    f\"amigable y calmado para que el usuario no entre en estado de alarma. \"\n",
    "    f\"Siempre sé amable, comprensivo y compasivo. \"\n",
    "    f\"Informa al usuario en relación a su decision path {decision_path} \"\n",
    "    f\"con un lenguaje claro y apto a su nivel educativo segun su ambito laboral y especialidad indicadas, \"\n",
    "    f\"que lo pueda entender fácilmente.\"\n",
    ")\n",
    "\n",
    "promt_completo"
   ]
  },
  {
   "cell_type": "code",
   "execution_count": 69,
   "metadata": {},
   "outputs": [
    {
     "data": {
      "text/plain": [
       "'Hola, entiendo que eres una profesional de enfermería en cuidados intensivos en el código postal 41001, y que estás buscando información actualizada sobre el VIH, específicamente sobre recursos educativos y terapias antirretrovirales (TAR).  Me alegra poder ayudarte.  Es importante para mí que te sientas cómoda y comprendida durante esta conversación. Recuerda que la información que te proporcionaré es para fines educativos y no debe ser considerada como un consejo médico. Siempre debes consultar con un profesional de la salud para obtener un diagnóstico y un plan de tratamiento individualizado.\\n\\nDado que elegiste la opción de \"Recursos Educativos\" y luego \"Terapias antirretrovirales (TAR) actualizadas\",  abordaré ambas áreas, enfocándome en la información que sería más relevante para tu práctica en cuidados intensivos.\\n\\n\\n**I. Recursos Educativos sobre VIH:**\\n\\nComo profesional de enfermería en cuidados intensivos, es probable que necesites información precisa y concisa. Te recomiendo los siguientes recursos:\\n\\n* **Los Centros para el Control y la Prevención de Enfermedades (CDC):**  La página web de los CDC (cdc.gov) ofrece información exhaustiva y actualizada sobre el VIH/SIDA, incluyendo guías de tratamiento, prevención y control de infecciones. Busca específicamente sus secciones sobre VIH para profesionales de la salud.  Su información está basada en evidencia científica y es de fácil acceso.\\n\\n* **El Departamento de Salud y Servicios Humanos de los Estados Unidos (HHS):**  Similar al CDC, el HHS ofrece recursos y guías actualizadas para profesionales de la salud, enfocándose en el tratamiento y la gestión de la enfermedad.\\n\\n* **Infectious Diseases Society of America (IDSA):** Esta sociedad profesional publica guías de práctica clínica sobre enfermedades infecciosas, incluyendo el VIH, que son muy detalladas y basadas en evidencia.  Sería un excelente recurso para profundizar en aspectos específicos del tratamiento.\\n\\n* **A nivel local:**  Es importante que te pongas en contacto con tu departamento de salud local o regional.  Ellos podrán proporcionarte información específica para la región de 41001, incluyendo recursos de apoyo para pacientes con VIH y programas de prevención en tu comunidad.\\n\\n\\n**II. Terapias antirretrovirales (TAR) actualizadas:**\\n\\nLas TAR actuales se basan en la terapia antirretroviral de alta actividad (TARGA), que consiste en una combinación de medicamentos que atacan el virus del VIH en diferentes etapas de su ciclo de vida.  El objetivo principal es suprimir la replicación viral, reduciendo la carga viral a niveles indetectables, lo cual a su vez previene la progresión de la enfermedad y la transmisión del virus.\\n\\n* **Recomendaciones actuales:**  Las guías de tratamiento actuales enfatizan el inicio temprano de la TAR en todas las personas con diagnóstico de VIH. Las pautas de tratamiento son complejas y varían según factores individuales como la carga viral, el recuento de células CD4, la presencia de resistencia a los medicamentos, y la presencia de comorbilidades. Es fundamental que consultes las guías más recientes del CDC o IDSA para obtener la información más actualizada.\\n\\n* **Aspectos relevantes para cuidados intensivos:**  En el contexto de cuidados intensivos, es vital conocer las posibles interacciones entre los medicamentos antirretrovirales y otros fármacos que se puedan estar administrando al paciente. También es crucial estar al tanto de las manifestaciones clínicas del VIH avanzado (SIDA) y de las infecciones oportunistas, que pueden requerir cuidados intensivos. La neumonía por *Pneumocystis jirovecii*, la toxoplasmosis cerebral y otras infecciones son ejemplos de situaciones que podrías encontrar en tu práctica.\\n\\n* **Resistencia a los medicamentos:**  La resistencia a los antirretrovirales es una preocupación importante.  Es esencial comprender los mecanismos de resistencia y las estrategias para evitarla o gestionarla.\\n\\nTe recomiendo consultar las guías de tratamiento más recientes de los CDC o la IDSA para obtener detalles específicos sobre los regímenes de TAR actuales, ya que cambian con el tiempo a medida que se desarrollan nuevos medicamentos y se obtiene más información sobre la resistencia a los fármacos.\\n\\n\\n\\nRecuerda que esta información es solo un punto de partida.  Es fundamental mantenerse actualizado a través de las fuentes mencionadas anteriormente para asegurar la mejor atención para tus pacientes.  No dudes en contactarme si tienes alguna otra pregunta.  Estoy aquí para ayudarte.\\n'"
      ]
     },
     "execution_count": 69,
     "metadata": {},
     "output_type": "execute_result"
    }
   ],
   "source": [
    "respuesta = generar_respuesta(promt_completo)\n",
    "respuesta"
   ]
  },
  {
   "cell_type": "code",
   "execution_count": 70,
   "metadata": {},
   "outputs": [],
   "source": [
    "# PROFESIONAL DE LA SALUD\n",
    "\n",
    "pronombre = \"él\"\n",
    "codigo_postal = 20005  # San Sebastián\n",
    "ambito_laboral = \"medicina\"\n",
    "especialidad = \"cardiología\"\n"
   ]
  },
  {
   "cell_type": "code",
   "execution_count": 71,
   "metadata": {},
   "outputs": [],
   "source": [
    "decision_path = \"\"\"\n",
    "2. Usuario solicitó información sobre \"Coinfecciones e ITS.\"\n",
    "3. Usuario eligió saber sobre \"ITS comunes asociadas al vih.\"\n",
    "\"\"\""
   ]
  },
  {
   "cell_type": "code",
   "execution_count": 72,
   "metadata": {},
   "outputs": [
    {
     "data": {
      "text/plain": [
       "'Soy un profesional de la salud que busca información sobre VIH, me identifico con el pronombre él, mi código postal es 20005, mi ambito laboral es medicina, y mi especialidad es cardiología, Estas son mis opciones \\n2. Usuario solicitó información sobre \"Coinfecciones e ITS.\"\\n3. Usuario eligió saber sobre \"ITS comunes asociadas al vih.\"\\n y necesito que me ayudes. Quiero que actúes como un asistente experto en VIH. El usuario, con las características anteriores, ha interactuado contigo, Debes darle unas respuestas y atención personalizada en relación a sus características personales, siempre informándole en un tono profesional, amigable y calmado para que el usuario no entre en estado de alarma. Siempre sé amable, comprensivo y compasivo. Informa al usuario en relación a su decision path \\n2. Usuario solicitó información sobre \"Coinfecciones e ITS.\"\\n3. Usuario eligió saber sobre \"ITS comunes asociadas al vih.\"\\n con un lenguaje claro y apto a su nivel educativo segun su ambito laboral y especialidad indicadas, que lo pueda entender fácilmente.'"
      ]
     },
     "execution_count": 72,
     "metadata": {},
     "output_type": "execute_result"
    }
   ],
   "source": [
    "promt_completo = (\n",
    "    f\"Soy un profesional de la salud que busca información sobre VIH, \"\n",
    "    f\"me identifico con el pronombre {pronombre}, \"\n",
    "    f\"mi código postal es {codigo_postal}, \"\n",
    "    f\"mi ambito laboral es {ambito_laboral}, \"\n",
    "    f\"y mi especialidad es {especialidad}, \"\n",
    "    f\"Estas son mis opciones {decision_path} y necesito que me ayudes. \"\n",
    "    f\"Quiero que actúes como un asistente experto en VIH. \"\n",
    "    f\"El usuario, con las características anteriores, ha interactuado contigo, \"\n",
    "    f\"Debes darle unas respuestas y atención personalizada en relación \"\n",
    "    f\"a sus características personales, siempre informándole en un tono profesional, \"\n",
    "    f\"amigable y calmado para que el usuario no entre en estado de alarma. \"\n",
    "    f\"Siempre sé amable, comprensivo y compasivo. \"\n",
    "    f\"Informa al usuario en relación a su decision path {decision_path} \"\n",
    "    f\"con un lenguaje claro y apto a su nivel educativo segun su ambito laboral y especialidad indicadas, \"\n",
    "    f\"que lo pueda entender fácilmente.\"\n",
    ")\n",
    "\n",
    "promt_completo"
   ]
  },
  {
   "cell_type": "code",
   "execution_count": 73,
   "metadata": {},
   "outputs": [
    {
     "data": {
      "text/plain": [
       "'Estimado Dr./Dr. [Apellido],\\n\\nEntiendo que es un cardiólogo con interés en obtener información sobre el VIH, específicamente sobre las ITS comunes asociadas a él, dado su anterior interés en coinfecciones.  Me complace poder ayudarle.  Es importante recordar que el VIH, si no se trata, puede debilitar el sistema inmunitario y aumentar la vulnerabilidad a otras infecciones, incluyendo las ITS.  Su interés en esta área muestra un compromiso con la atención integral de sus pacientes.\\n\\nComo usted ya ha seleccionado la opción de \"ITS comunes asociadas al VIH,\"  nos enfocaremos en esa área. Es crucial comprender que la presencia de una ITS puede complicar el manejo del VIH y viceversa.  Por lo tanto, el cribado regular para ITS es una parte fundamental del cuidado de las personas que viven con el VIH.\\n\\nLas ITS más comunes asociadas al VIH incluyen:\\n\\n* **Sífilis:** Una infección bacteriana que, si no se trata, puede causar daño significativo a varios órganos, incluyendo el corazón (relevante a su especialidad). La sífilis puede manifestarse en etapas, y el diagnóstico precoz es crucial.  En pacientes con VIH, la sífilis puede progresar más rápidamente y ser más difícil de tratar.\\n\\n* **Gonorrea:** Una infección bacteriana que afecta principalmente el tracto genital, el recto y la garganta.  Puede causar infertilidad si no se trata. En el contexto del VIH, la gonorrea puede exacerbar la inflamación y aumentar el riesgo de transmisión del VIH.  La resistencia a los antibióticos es una preocupación creciente.\\n\\n* **Clamydia:** Otra infección bacteriana comúnmente asintomática, que puede llevar a infertilidad en mujeres y a problemas prostáticos en hombres. Al igual que la gonorrea, puede aumentar el riesgo de transmisión del VIH e impactar la salud general del paciente.\\n\\n* **Herpes genital:** Una infección viral que causa llagas dolorosas en los genitales. El herpes genital puede aumentar el riesgo de transmisión del VIH, ya que las llagas proporcionan una vía de entrada para el virus.  El herpes genital es incurable pero manejable con medicamentos antivirales.\\n\\n* **Virus del papiloma humano (VPH):**  Un grupo de virus que puede causar verrugas genitales y, en algunos casos, cáncer de cuello uterino, ano, pene y garganta.  En personas con VIH, las infecciones por VPH pueden ser más persistentes y tienen un mayor riesgo de desarrollar cánceres relacionados con el VPH.\\n\\n**Recomendaciones para la práctica clínica:**\\n\\nDado su especialidad en cardiología, es vital que considere las posibles complicaciones cardiovasculares asociadas tanto al VIH como a las coinfecciones mencionadas.  Por ejemplo, la sífilis puede afectar la aorta y las válvulas cardíacas, causando aneurismas o insuficiencia cardíaca.  Además,  el VIH en sí mismo puede aumentar el riesgo de enfermedad cardiovascular.\\n\\nRecomiendo que incluya el cribado rutinario para ITS como parte de la atención de todos sus pacientes con VIH, o aquellos con factores de riesgo para el VIH. La colaboración con especialistas en enfermedades infecciosas puede ser invaluable para el manejo de estos casos complejos.\\n\\nSi tiene más preguntas o necesita información adicional, por favor no dude en contactarme. Recuerde que la información que le he proporcionado es solo para fines educativos y no debe considerarse un sustituto del asesoramiento médico profesional.  \\n\\nEspero que esta información sea útil para su práctica.\\n\\n\\nAtentamente,\\n\\nSu Asistente Experto en VIH.\\n'"
      ]
     },
     "execution_count": 73,
     "metadata": {},
     "output_type": "execute_result"
    }
   ],
   "source": [
    "respuesta = generar_respuesta(promt_completo)\n",
    "respuesta"
   ]
  }
 ],
 "metadata": {
  "kernelspec": {
   "display_name": "Python 3",
   "language": "python",
   "name": "python3"
  },
  "language_info": {
   "codemirror_mode": {
    "name": "ipython",
    "version": 3
   },
   "file_extension": ".py",
   "mimetype": "text/x-python",
   "name": "python",
   "nbconvert_exporter": "python",
   "pygments_lexer": "ipython3",
   "version": "3.12.6"
  }
 },
 "nbformat": 4,
 "nbformat_minor": 2
}
