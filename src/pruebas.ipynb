{
 "cells": [
  {
   "cell_type": "code",
   "execution_count": 1,
   "metadata": {},
   "outputs": [],
   "source": [
    "from utils import leer_pdf, preprocesar_texto"
   ]
  },
  {
   "cell_type": "code",
   "execution_count": 9,
   "metadata": {},
   "outputs": [
    {
     "ename": "ImportError",
     "evalue": "cannot import name 'PyPDFLoader' from 'PyPDF2' (/Library/Frameworks/Python.framework/Versions/3.12/lib/python3.12/site-packages/PyPDF2/__init__.py)",
     "output_type": "error",
     "traceback": [
      "\u001b[0;31m---------------------------------------------------------------------------\u001b[0m",
      "\u001b[0;31mImportError\u001b[0m                               Traceback (most recent call last)",
      "Cell \u001b[0;32mIn[9], line 2\u001b[0m\n\u001b[1;32m      1\u001b[0m \u001b[39mimport\u001b[39;00m \u001b[39mos\u001b[39;00m\n\u001b[0;32m----> 2\u001b[0m \u001b[39mfrom\u001b[39;00m \u001b[39mPyPDF2\u001b[39;00m \u001b[39mimport\u001b[39;00m PyPDFLoader\n\u001b[1;32m      3\u001b[0m \u001b[39mimport\u001b[39;00m \u001b[39mpandas\u001b[39;00m \u001b[39mas\u001b[39;00m \u001b[39mpd\u001b[39;00m\n\u001b[1;32m      4\u001b[0m \u001b[39mimport\u001b[39;00m \u001b[39mmatplotlib\u001b[39;00m\u001b[39m.\u001b[39;00m\u001b[39mpyplot\u001b[39;00m \u001b[39mas\u001b[39;00m \u001b[39mplt\u001b[39;00m\n",
      "\u001b[0;31mImportError\u001b[0m: cannot import name 'PyPDFLoader' from 'PyPDF2' (/Library/Frameworks/Python.framework/Versions/3.12/lib/python3.12/site-packages/PyPDF2/__init__.py)"
     ]
    }
   ],
   "source": [
    "import os\n",
    "from langchain_community.document_loaders import PyPDFLoader\n",
    "import pandas as pd\n",
    "import matplotlib.pyplot as plt\n",
    "from transformers import GPT2TokenizerFast\n",
    "from langchain.document_loaders import PyPDFLoader\n",
    "from langchain.text_splitter import RecursiveCharacterTextSplitter\n",
    "from langchain.embeddings import OpenAIEmbeddings\n",
    "from langchain.vectorstores import FAISS\n",
    "from langchain.chains.question_answering import load_qa_chain\n",
    "from langchain.llms import OpenAI\n",
    "from langchain.chains import ConversationalRetrievalChain"
   ]
  },
  {
   "cell_type": "code",
   "execution_count": 8,
   "metadata": {},
   "outputs": [
    {
     "ename": "ImportError",
     "evalue": "pypdf package not found, please install it with `pip install pypdf`",
     "output_type": "error",
     "traceback": [
      "\u001b[0;31m---------------------------------------------------------------------------\u001b[0m",
      "\u001b[0;31mModuleNotFoundError\u001b[0m                       Traceback (most recent call last)",
      "File \u001b[0;32m/Library/Frameworks/Python.framework/Versions/3.12/lib/python3.12/site-packages/langchain_community/document_loaders/pdf.py:236\u001b[0m, in \u001b[0;36mPyPDFLoader.__init__\u001b[0;34m(self, file_path, password, headers, extract_images, extraction_mode, extraction_kwargs)\u001b[0m\n\u001b[1;32m    235\u001b[0m \u001b[39mtry\u001b[39;00m:\n\u001b[0;32m--> 236\u001b[0m     \u001b[39mimport\u001b[39;00m \u001b[39mpypdf\u001b[39;00m  \u001b[39m# noqa:F401\u001b[39;00m\n\u001b[1;32m    237\u001b[0m \u001b[39mexcept\u001b[39;00m \u001b[39mImportError\u001b[39;00m:\n",
      "\u001b[0;31mModuleNotFoundError\u001b[0m: No module named 'pypdf'",
      "\nDuring handling of the above exception, another exception occurred:\n",
      "\u001b[0;31mImportError\u001b[0m                               Traceback (most recent call last)",
      "Cell \u001b[0;32mIn[8], line 5\u001b[0m\n\u001b[1;32m      1\u001b[0m \u001b[39m# You MUST add your PDF to local files in this notebook (folder icon on left hand side of screen)\u001b[39;00m\n\u001b[1;32m      2\u001b[0m \n\u001b[1;32m      3\u001b[0m \u001b[39m# Simple method - Split by pages \u001b[39;00m\n\u001b[1;32m      4\u001b[0m ruta_pdf \u001b[39m=\u001b[39m \u001b[39m\"\u001b[39m\u001b[39m../data/VIH.pdf\u001b[39m\u001b[39m\"\u001b[39m \n\u001b[0;32m----> 5\u001b[0m loader \u001b[39m=\u001b[39m PyPDFLoader(ruta_pdf)\n\u001b[1;32m      6\u001b[0m pages \u001b[39m=\u001b[39m loader\u001b[39m.\u001b[39mload_and_split()\n\u001b[1;32m      7\u001b[0m \u001b[39mprint\u001b[39m(pages[\u001b[39m0\u001b[39m])\n",
      "File \u001b[0;32m/Library/Frameworks/Python.framework/Versions/3.12/lib/python3.12/site-packages/langchain_community/document_loaders/pdf.py:238\u001b[0m, in \u001b[0;36mPyPDFLoader.__init__\u001b[0;34m(self, file_path, password, headers, extract_images, extraction_mode, extraction_kwargs)\u001b[0m\n\u001b[1;32m    236\u001b[0m     \u001b[39mimport\u001b[39;00m \u001b[39mpypdf\u001b[39;00m  \u001b[39m# noqa:F401\u001b[39;00m\n\u001b[1;32m    237\u001b[0m \u001b[39mexcept\u001b[39;00m \u001b[39mImportError\u001b[39;00m:\n\u001b[0;32m--> 238\u001b[0m     \u001b[39mraise\u001b[39;00m \u001b[39mImportError\u001b[39;00m(\n\u001b[1;32m    239\u001b[0m         \u001b[39m\"\u001b[39m\u001b[39mpypdf package not found, please install it with `pip install pypdf`\u001b[39m\u001b[39m\"\u001b[39m\n\u001b[1;32m    240\u001b[0m     )\n\u001b[1;32m    241\u001b[0m \u001b[39msuper\u001b[39m()\u001b[39m.\u001b[39m\u001b[39m__init__\u001b[39m(file_path, headers\u001b[39m=\u001b[39mheaders)\n\u001b[1;32m    242\u001b[0m \u001b[39mself\u001b[39m\u001b[39m.\u001b[39mparser \u001b[39m=\u001b[39m PyPDFParser(\n\u001b[1;32m    243\u001b[0m     password\u001b[39m=\u001b[39mpassword,\n\u001b[1;32m    244\u001b[0m     extract_images\u001b[39m=\u001b[39mextract_images,\n\u001b[1;32m    245\u001b[0m     extraction_mode\u001b[39m=\u001b[39mextraction_mode,\n\u001b[1;32m    246\u001b[0m     extraction_kwargs\u001b[39m=\u001b[39mextraction_kwargs,\n\u001b[1;32m    247\u001b[0m )\n",
      "\u001b[0;31mImportError\u001b[0m: pypdf package not found, please install it with `pip install pypdf`"
     ]
    }
   ],
   "source": [
    "# You MUST add your PDF to local files in this notebook (folder icon on left hand side of screen)\n",
    "\n",
    "# Simple method - Split by pages \n",
    "ruta_pdf = \"../data/VIH.pdf\" \n",
    "loader = PyPDFLoader(ruta_pdf)\n",
    "pages = loader.load_and_split()\n",
    "print(pages[0])\n",
    "\n",
    "# SKIP TO STEP 2 IF YOU'RE USING THIS METHOD\n",
    "chunks = pages"
   ]
  }
 ],
 "metadata": {
  "kernelspec": {
   "display_name": "Python 3",
   "language": "python",
   "name": "python3"
  },
  "language_info": {
   "codemirror_mode": {
    "name": "ipython",
    "version": 3
   },
   "file_extension": ".py",
   "mimetype": "text/x-python",
   "name": "python",
   "nbconvert_exporter": "python",
   "pygments_lexer": "ipython3",
   "version": "3.12.6"
  },
  "orig_nbformat": 4
 },
 "nbformat": 4,
 "nbformat_minor": 2
}
